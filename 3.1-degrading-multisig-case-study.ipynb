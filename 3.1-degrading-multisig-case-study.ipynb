{
 "cells": [
  {
   "cell_type": "code",
   "execution_count": 19,
   "metadata": {},
   "outputs": [],
   "source": [
    "from io import BytesIO\n",
    "import random\n",
    "\n",
    "import util\n",
    "from test_framework.key import generate_key_pair, generate_bip340_key_pair, generate_schnorr_nonce, ECKey, ECPubKey, SECP256K1_FIELD_SIZE, SECP256K1, SECP256K1_ORDER\n",
    "from test_framework.musig import aggregate_musig_signatures, aggregate_schnorr_nonces, generate_musig_key, musig_digest, sign_musig\n",
    "from test_framework.script import TapLeaf, TapTree, TaprootSignatureHash, SIGHASH_ALL_TAPROOT\n",
    "from test_framework.address import program_to_witness\n",
    "from test_framework.messages import CTransaction, COutPoint, CTxIn, CTxOut, CTxInWitness\n",
    "from test_framework.util import assert_equal"
   ]
  },
  {
   "cell_type": "markdown",
   "metadata": {},
   "source": [
    "## 3.1 Degrading Multisig Output\n",
    "\n",
    "In this case study, we consider a degrading multisig output, which provides recovery spending paths if the main wallet keys are lost or cannot sign. This output is expected to spent soon after being created. \n",
    "The recovery spending paths include delays in case the back-up keys are compromised."
   ]
  },
  {
   "cell_type": "markdown",
   "metadata": {},
   "source": [
    "![test](images/degrading_multisig0.jpg)"
   ]
  },
  {
   "cell_type": "markdown",
   "metadata": {},
   "source": [
    "#### Locking conditions\n",
    "\n",
    "* **multisig( 3/3 main wallet key )** - spendable immediately; or\n",
    "* **multisig( 2/3 main wallet keys + 1/2 backup keys )** - spendable after 3 days; or\n",
    "* **multisig( 1/3 main wallet keys + 2/2 backup keys )** - spendable after 10 days.\n"
   ]
  },
  {
   "cell_type": "markdown",
   "metadata": {},
   "source": [
    "#### Signers\n",
    "\n",
    "* **Main wallet keys** - Keys A, B, C\n",
    "* **Backup keys** - Keys D, E\n",
    "\n",
    "#### Privacy Requirements\n",
    "\n",
    "No unused public keys should be revealed during spending.\n",
    "\n",
    "#### Other considerations\n",
    "\n",
    "Since the backup keys are stored on simple HSMs, they are not able to interactively co-sign MuSig aggregate signatures."
   ]
  },
  {
   "cell_type": "markdown",
   "metadata": {},
   "source": [
    "#### _Exercise 3.1.1:_ Determine different signing scenarios and their likelihoods\n",
    "\n",
    "**(This is not a coding exercise)**\n",
    "\n",
    "Before we construct the Taptree, sketch out different signing scenarios and their likelihoods."
   ]
  },
  {
   "attachments": {},
   "cell_type": "markdown",
   "metadata": {},
   "source": [
    "##### Spending paths\n",
    "假设 \n",
    "1. using 3 main key 1 path 55% \n",
    "2. using 2/3 main keys, using only 1 backup keys, 6 path 30% \n",
    "3. using 1/3 main keys, using both backup keys 3 path 15% \n",
    "\n",
    "##### Sketch out Taproot Descriptors\n",
    "- 3-3 agg schonnor multi sig (pk abc)\n",
    "- 6 * csa_delay (3, <3 keys >, 3 days )\n",
    "- 3 * cas_deay( 3, <3 keys >, 10 days)\n"
   ]
  },
  {
   "cell_type": "markdown",
   "metadata": {},
   "source": [
    "#### Example 3.1.2: Set up keys for the taproot output\n",
    "\n",
    "Here we prepare key pairs for all participants, and create an aggregate MuSig pubkey."
   ]
  },
  {
   "cell_type": "code",
   "execution_count": 20,
   "metadata": {},
   "outputs": [
    {
     "name": "stdout",
     "output_type": "stream",
     "text": [
      "Main pubkeys: ['cd831524749064b24a9ad06df09cda49fecf79c79d74e3365cf02a4587dfbe3a', 'ff7e3cae73a84637b19e0d516a67727607677a4266916f1406fc0830f9a93b75', '7a10f251ce4b39d2bb31a21ace2c76654f2aaf01a2047d64aebe6180159ea2e1']\n",
      "\n",
      "Backup pubkeys: ['8ace72d6faf4025e51a9070ddd5be3d1227f46488168f800eb41c999d46255a2', '309c32519916a2c7d650e2dc4a226728d5d35008557f190d5a02efe9322a7ac8']\n",
      "\n",
      "MuSig pubkey: d6c5baf5c387ed5067b3d9fa165fa9966568cd163201a2b5598c0ae9a89253d5\n"
     ]
    }
   ],
   "source": [
    "# Generate main wallet key pairs\n",
    "main_privkeyA, main_pubkeyA = generate_bip340_key_pair()\n",
    "main_privkeyB, main_pubkeyB = generate_bip340_key_pair()\n",
    "main_privkeyC, main_pubkeyC = generate_bip340_key_pair()\n",
    "main_pubkeys = [main_pubkeyA.get_bytes().hex(),\n",
    "                main_pubkeyB.get_bytes().hex(), \n",
    "                main_pubkeyC.get_bytes().hex()]\n",
    "\n",
    "print(\"Main pubkeys: {}\\n\".format(main_pubkeys))\n",
    "\n",
    "# Generate back-up wallet key pairs\n",
    "backup_privkeyD, backup_pubkeyD = generate_bip340_key_pair()\n",
    "backup_privkeyE, backup_pubkeyE = generate_bip340_key_pair()\n",
    "backup_pubkeys = [backup_pubkeyD.get_bytes().hex(),\n",
    "                  backup_pubkeyE.get_bytes().hex()]\n",
    "\n",
    "print(\"Backup pubkeys: {}\\n\".format(backup_pubkeys))\n",
    "\n",
    "# 3-of-3 main key (MuSig public key)\n",
    "c_map, musig_ABC = generate_musig_key([main_pubkeyA, main_pubkeyB, main_pubkeyC])\n",
    "main_privkeyA_c = main_privkeyA.mul(c_map[main_pubkeyA])\n",
    "main_privkeyB_c = main_privkeyB.mul(c_map[main_pubkeyB])\n",
    "main_privkeyC_c = main_privkeyC.mul(c_map[main_pubkeyC])\n",
    "main_pubkeyA_c = main_pubkeyA.mul(c_map[main_pubkeyA])\n",
    "main_pubkeyB_c = main_pubkeyA.mul(c_map[main_pubkeyB])\n",
    "main_pubkeyC_c = main_pubkeyA.mul(c_map[main_pubkeyC])\n",
    "\n",
    "if musig_ABC.get_y()%2 != 0:\n",
    "    musig_ABC.negate()\n",
    "    main_privkeyA_c.negate()\n",
    "    main_privkeyB_c.negate()\n",
    "    main_privkeyC_c.negate()\n",
    "    main_pubkeyA_c.negate()\n",
    "    main_pubkeyB_c.negate()\n",
    "    main_pubkeyC_c.negate()\n",
    "\n",
    "print(\"MuSig pubkey: {}\".format(musig_ABC.get_bytes().hex()))"
   ]
  },
  {
   "cell_type": "markdown",
   "metadata": {},
   "source": [
    "#### _Programming Exercise 3.1.3:_ Build a taproot output\n",
    "\n",
    "In this exercise, we'll build a taptree according to the spending paths and their likelihoods, and then derive the segwit address for the taproot."
   ]
  },
  {
   "cell_type": "code",
   "execution_count": 21,
   "metadata": {},
   "outputs": [
    {
     "name": "stdout",
     "output_type": "stream",
     "text": [
      "Taproot descriptor tp(d6c5baf5c387ed5067b3d9fa165fa9966568cd163201a2b5598c0ae9a89253d5,[[[ts(csa_delay(3,cd831524749064b24a9ad06df09cda49fecf79c79d74e3365cf02a4587dfbe3a,8ace72d6faf4025e51a9070ddd5be3d1227f46488168f800eb41c999d46255a2,309c32519916a2c7d650e2dc4a226728d5d35008557f190d5a02efe9322a7ac8,1440)),ts(csa_delay(3,cd831524749064b24a9ad06df09cda49fecf79c79d74e3365cf02a4587dfbe3a,ff7e3cae73a84637b19e0d516a67727607677a4266916f1406fc0830f9a93b75,8ace72d6faf4025e51a9070ddd5be3d1227f46488168f800eb41c999d46255a2,432))],[ts(csa_delay(3,cd831524749064b24a9ad06df09cda49fecf79c79d74e3365cf02a4587dfbe3a,7a10f251ce4b39d2bb31a21ace2c76654f2aaf01a2047d64aebe6180159ea2e1,309c32519916a2c7d650e2dc4a226728d5d35008557f190d5a02efe9322a7ac8,432)),ts(csa_delay(3,cd831524749064b24a9ad06df09cda49fecf79c79d74e3365cf02a4587dfbe3a,ff7e3cae73a84637b19e0d516a67727607677a4266916f1406fc0830f9a93b75,309c32519916a2c7d650e2dc4a226728d5d35008557f190d5a02efe9322a7ac8,432))]],[[ts(csa_delay(3,cd831524749064b24a9ad06df09cda49fecf79c79d74e3365cf02a4587dfbe3a,7a10f251ce4b39d2bb31a21ace2c76654f2aaf01a2047d64aebe6180159ea2e1,8ace72d6faf4025e51a9070ddd5be3d1227f46488168f800eb41c999d46255a2,432)),ts(csa_delay(3,ff7e3cae73a84637b19e0d516a67727607677a4266916f1406fc0830f9a93b75,7a10f251ce4b39d2bb31a21ace2c76654f2aaf01a2047d64aebe6180159ea2e1,309c32519916a2c7d650e2dc4a226728d5d35008557f190d5a02efe9322a7ac8,432))],[ts(csa_delay(3,ff7e3cae73a84637b19e0d516a67727607677a4266916f1406fc0830f9a93b75,7a10f251ce4b39d2bb31a21ace2c76654f2aaf01a2047d64aebe6180159ea2e1,8ace72d6faf4025e51a9070ddd5be3d1227f46488168f800eb41c999d46255a2,432)),[ts(csa_delay(3,7a10f251ce4b39d2bb31a21ace2c76654f2aaf01a2047d64aebe6180159ea2e1,8ace72d6faf4025e51a9070ddd5be3d1227f46488168f800eb41c999d46255a2,309c32519916a2c7d650e2dc4a226728d5d35008557f190d5a02efe9322a7ac8,1440)),ts(csa_delay(3,ff7e3cae73a84637b19e0d516a67727607677a4266916f1406fc0830f9a93b75,8ace72d6faf4025e51a9070ddd5be3d1227f46488168f800eb41c999d46255a2,309c32519916a2c7d650e2dc4a226728d5d35008557f190d5a02efe9322a7ac8,1440))]]]])\n",
      "\n",
      "Segwit Address: bcrt1pvlmkleet7kw7xgw8h0vhm4uk9u5pzr3nc0d902y68f0p3tdyswusqszvrt\n"
     ]
    }
   ],
   "source": [
    "# Tapscripts - 2 main keys & 1 backup key\n",
    "# Use construct_csa_delay() to construct the tapscript\n",
    "# deplay 3 days = 3 * 24 * 6 = 432 blocks (1 block every 10 minutes)\n",
    "delay =  432\n",
    "# ABD \n",
    "tapscript_2a =  TapLeaf().construct_csa_delay(3, [main_pubkeyA, main_pubkeyB, backup_pubkeyD], delay)\n",
    "# ACD \n",
    "tapscript_2b =  TapLeaf().construct_csa_delay(3, [main_pubkeyA, main_pubkeyC, backup_pubkeyD], delay)\n",
    "# BCD\n",
    "tapscript_2c =  TapLeaf().construct_csa_delay(3, [main_pubkeyB, main_pubkeyC, backup_pubkeyD], delay)\n",
    "# ABE\n",
    "tapscript_2d =  TapLeaf().construct_csa_delay(3, [main_pubkeyA, main_pubkeyB, backup_pubkeyE], delay)\n",
    "# ACE\n",
    "tapscript_2e =  TapLeaf().construct_csa_delay(3, [main_pubkeyA, main_pubkeyC, backup_pubkeyE], delay)\n",
    "# BCE\n",
    "tapscript_2f =  TapLeaf().construct_csa_delay(3, [main_pubkeyB, main_pubkeyC, backup_pubkeyE], delay)\n",
    "\n",
    "# Tapscripts - 1 main keys & 2 backup keys\n",
    "long_delay = 10*24*6\n",
    "tapscript_3a = TapLeaf().construct_csa_delay(3, [main_pubkeyA, backup_pubkeyD, backup_pubkeyE], long_delay)\n",
    "tapscript_3b = TapLeaf().construct_csa_delay(3, [main_pubkeyB, backup_pubkeyD, backup_pubkeyE], long_delay)\n",
    "tapscript_3c = TapLeaf().construct_csa_delay(3, [main_pubkeyC, backup_pubkeyD, backup_pubkeyE], long_delay)\n",
    "\n",
    "\n",
    "# Set list of backup tapscripts\n",
    "# Suggestion: Include tapscripts with 3d timelocks first, then those with 10d timelocks\n",
    "backup_tapscripts = [tapscript_2a, tapscript_2b, tapscript_2c,\n",
    "                     tapscript_2d, tapscript_2e, tapscript_2f,\n",
    "                     tapscript_3a, tapscript_3b, tapscript_3c]\n",
    "assert len(backup_tapscripts) == 9\n",
    "\n",
    "# Construct taptree with huffman constructor\n",
    "tapscript_weights = [(2, tapscript_2a), (2, tapscript_2b), (2, tapscript_2c),\n",
    "                     (2, tapscript_2d), (2, tapscript_2e), (2, tapscript_2f),\n",
    "                     (1, tapscript_3a), (1, tapscript_3b), (1, tapscript_3c)]\n",
    "                                \n",
    "multisig_taproot = TapTree(key=musig_ABC)\n",
    "multisig_taproot.huffman_constructor(tapscript_weights)\n",
    "\n",
    "print(\"Taproot descriptor {}\\n\".format(multisig_taproot.desc))\n",
    "\n",
    "# Derive segwit v1 address\n",
    "tapscript, taptweak, control_map = multisig_taproot.construct()\n",
    "taptweak = int.from_bytes(taptweak, 'big')\n",
    "output_pubkey = musig_ABC.tweak_add(taptweak)\n",
    "output_pubkey_b = output_pubkey.get_bytes()\n",
    "segwit_address  = program_to_witness(1, output_pubkey_b)\n",
    "print(\"Segwit Address:\", segwit_address)"
   ]
  },
  {
   "cell_type": "markdown",
   "metadata": {},
   "source": [
    "#### Start TestNodes"
   ]
  },
  {
   "cell_type": "code",
   "execution_count": 22,
   "metadata": {},
   "outputs": [
    {
     "name": "stdout",
     "output_type": "stream",
     "text": [
      "TestWrapper is already running!\n"
     ]
    }
   ],
   "source": [
    "test = util.TestWrapper()\n",
    "test.setup()"
   ]
  },
  {
   "cell_type": "markdown",
   "metadata": {},
   "source": [
    "#### Generate Wallet Balance"
   ]
  },
  {
   "cell_type": "code",
   "execution_count": 23,
   "metadata": {},
   "outputs": [
    {
     "name": "stdout",
     "output_type": "stream",
     "text": [
      "Balance: 5099.50000000\n"
     ]
    }
   ],
   "source": [
    "test.nodes[0].generate(101)\n",
    "balance = test.nodes[0].getbalance()\n",
    "print(\"Balance: {}\".format(balance))"
   ]
  },
  {
   "cell_type": "markdown",
   "metadata": {},
   "source": [
    "#### Send funds from the Bitcoin Core wallet to the taproot output"
   ]
  },
  {
   "cell_type": "code",
   "execution_count": 24,
   "metadata": {},
   "outputs": [
    {
     "name": "stdout",
     "output_type": "stream",
     "text": [
      "Funding tx: 1425b81428230e6a4f5763b97401722dcfa916c2c700b01ba49352ab1ea38f3a\n",
      "512067f76fe72bf59de321c7bbd97dd7962f28110e33c3da57a89a3a5e18ada483b9\n",
      "[CTxOut(nValue=0.50000000 scriptPubKey=512067f76fe72bf59de321c7bbd97dd7962f28110e33c3da57a89a3a5e18ada483b9), CTxOut(nValue=48.99990400 scriptPubKey=0014c5729da6434a5525da1f909d9124e135ab78b658)]\n",
      "Segwit v1 output is CTxOut(nValue=0.50000000 scriptPubKey=512067f76fe72bf59de321c7bbd97dd7962f28110e33c3da57a89a3a5e18ada483b9)\n",
      "Segwit v1 output value is 50000000\n",
      "Segwit v1 output index is 0\n"
     ]
    }
   ],
   "source": [
    "# Send funds to taproot output.\n",
    "txid = test.nodes[0].sendtoaddress(address=segwit_address, amount=0.5, fee_rate=25)\n",
    "print(\"Funding tx:\", txid)\n",
    "\n",
    "# Deserialize wallet transaction.\n",
    "tx = CTransaction()\n",
    "tx_hex = test.nodes[0].getrawtransaction(txid)\n",
    "tx.deserialize(BytesIO(bytes.fromhex(tx_hex)))\n",
    "tx.rehash()\n",
    "\n",
    "print(tapscript.hex())\n",
    "\n",
    "print(tx.vout)\n",
    "\n",
    "# The wallet randomizes the change output index for privacy\n",
    "# Loop through the outputs and return the first where the scriptPubKey matches the segwit v1 output\n",
    "output_index, output = next(out for out in enumerate(tx.vout) if out[1].scriptPubKey == tapscript)\n",
    "output_value = output.nValue\n",
    "\n",
    "print(\"Segwit v1 output is {}\".format(output))\n",
    "print(\"Segwit v1 output value is {}\".format(output_value))\n",
    "print(\"Segwit v1 output index is {}\".format(output_index))"
   ]
  },
  {
   "cell_type": "markdown",
   "metadata": {},
   "source": [
    "## Test spending paths of the taproot\n",
    "\n",
    "In the next section exercise, we'll construct three taproot spends:\n",
    "\n",
    "- one using the 3-of-3 musig key spending path (exercise)\n",
    "- one using one of the 3-of-5 short delay backup script spending path (example)\n",
    "- one using one of the 3-of-5 long delay backup script spending path (exercise)\n",
    "\n",
    "In each case we'll test the tx validity with the `testmempoolaccept()`, and verify that the timelock requirements work as intended. We'll also compute the weight of each spending transaction and compare."
   ]
  },
  {
   "cell_type": "markdown",
   "metadata": {},
   "source": [
    "#### Construct a spending transaction"
   ]
  },
  {
   "cell_type": "code",
   "execution_count": 25,
   "metadata": {},
   "outputs": [
    {
     "name": "stdout",
     "output_type": "stream",
     "text": [
      "Spending transaction:\n",
      "CTransaction(nVersion=1 vin=[CTxIn(prevout=COutPoint(hash=1425b81428230e6a4f5763b97401722dcfa916c2c700b01ba49352ab1ea38f3a n=0) scriptSig= nSequence=0)] vout=[] wit=CTxWitness() nLockTime=0)\n"
     ]
    }
   ],
   "source": [
    "# Construct transaction\n",
    "spending_tx = CTransaction()\n",
    "\n",
    "# Populate the transaction version\n",
    "spending_tx.nVersion = 1\n",
    "\n",
    "# Populate the locktime\n",
    "spending_tx.nLockTime = 0\n",
    "\n",
    "# Populate the transaction inputs\n",
    "outpoint = COutPoint(tx.sha256, output_index)\n",
    "spending_tx_in = CTxIn(outpoint = outpoint)\n",
    "spending_tx.vin = [spending_tx_in]\n",
    "\n",
    "print(\"Spending transaction:\\n{}\".format(spending_tx))"
   ]
  },
  {
   "cell_type": "markdown",
   "metadata": {},
   "source": [
    "#### Populate outputs\n",
    "\n",
    "We'll generate an output address in the Bitcoin Core wallet to send the funds to, determine the fee, and then populate the spending_tx with an output to that address."
   ]
  },
  {
   "cell_type": "code",
   "execution_count": 26,
   "metadata": {},
   "outputs": [
    {
     "name": "stdout",
     "output_type": "stream",
     "text": [
      "Spending transaction:\n",
      "CTransaction(nVersion=1 vin=[CTxIn(prevout=COutPoint(hash=1425b81428230e6a4f5763b97401722dcfa916c2c700b01ba49352ab1ea38f3a n=0) scriptSig= nSequence=0)] vout=[CTxOut(nValue=0.49999000 scriptPubKey=0014859a2c1abd905da3cc866f16803123e664df1626)] wit=CTxWitness() nLockTime=0)\n"
     ]
    }
   ],
   "source": [
    "# Generate new Bitcoin Core wallet address\n",
    "dest_addr = test.nodes[0].getnewaddress(address_type=\"bech32\")\n",
    "scriptpubkey = bytes.fromhex(test.nodes[0].getaddressinfo(dest_addr)['scriptPubKey'])\n",
    "\n",
    "# Determine minimum fee required for mempool acceptance\n",
    "min_fee = int(test.nodes[0].getmempoolinfo()['mempoolminfee'] * 100000000)\n",
    "\n",
    "# Complete output which returns funds to Bitcoin Core wallet\n",
    "dest_output = CTxOut(nValue=output_value - min_fee, scriptPubKey=scriptpubkey)\n",
    "spending_tx.vout = [dest_output]\n",
    "\n",
    "print(\"Spending transaction:\\n{}\".format(spending_tx))"
   ]
  },
  {
   "cell_type": "markdown",
   "metadata": {},
   "source": [
    "#### 3.1.4 _Programming Exercise:_ Create a valid key path output\n",
    "\n",
    "In this exercise, we'll spend the taproot output using the key path. Since the key path is used, there is no control block to indicate whether or not the public key (Q) has an even or odd y-coordinate and so it is assumed that the y-coordinate is odd. Therefore, if Q needs to be negated, then so do all the private keys as well as the tweak."
   ]
  },
  {
   "cell_type": "code",
   "execution_count": 27,
   "metadata": {},
   "outputs": [
    {
     "name": "stdout",
     "output_type": "stream",
     "text": [
      "Aggregate signature is 89ef3ac2792d63c686ac9e570dbf2fc196c091ae4429761e30ac80f418def26a7b4d0117b3cec265816b0c09397c1d28a0def7325c9b5102495720805d28bc69\n",
      "\n",
      "spending_tx: CTransaction(nVersion=1 vin=[CTxIn(prevout=COutPoint(hash=1425b81428230e6a4f5763b97401722dcfa916c2c700b01ba49352ab1ea38f3a n=0) scriptSig= nSequence=0)] vout=[CTxOut(nValue=0.49999000 scriptPubKey=0014859a2c1abd905da3cc866f16803123e664df1626)] wit=CTxWitness(CScriptWitness(89ef3ac2792d63c686ac9e570dbf2fc196c091ae4429761e30ac80f418def26a7b4d0117b3cec265816b0c09397c1d28a0def7325c9b5102495720805d28bc69)) nLockTime=0)\n",
      "\n",
      "Key path spending transaction weight: 396\n",
      "Success!\n"
     ]
    }
   ],
   "source": [
    "# Negate keys if necessary\n",
    "output_keyPath = output_pubkey\n",
    "privKeyA_keyPath = main_privkeyA_c\n",
    "privKeyB_keyPath = main_privkeyB_c\n",
    "privKeyC_keyPath = main_privkeyC_c\n",
    "tweak_keyPath = taptweak\n",
    "\n",
    "if output_keyPath.get_y()%2 != 0:\n",
    "    output_keyPath.negate()\n",
    "    privKeyA_keyPath.negate()\n",
    "    privKeyB_keyPath.negate()\n",
    "    privKeyC_keyPath.negate()\n",
    "    tweak_keyPath = SECP256K1_ORDER - taptweak\n",
    "\n",
    "# Create sighash for ALL\n",
    "sighash_musig =  TaprootSignatureHash(spending_tx, [output], SIGHASH_ALL_TAPROOT)\n",
    " \n",
    "# Generate individual nonces for participants and an aggregate nonce point\n",
    "nonceA = generate_schnorr_nonce()\n",
    "nonceB = generate_schnorr_nonce()\n",
    "nonceC = generate_schnorr_nonce()\n",
    "# Remember to negate the individual nonces if necessary\n",
    "R_agg, negated = aggregate_schnorr_nonces([nonceA.get_pubkey(), nonceB.get_pubkey(), nonceC.get_pubkey()])\n",
    "if negated:\n",
    "    nonceA.negate()\n",
    "    nonceB.negate()\n",
    "    nonceC.negate()\n",
    "\n",
    "# Create an aggregate signature.\n",
    "# Remember to add a factor for the tweak\n",
    "sA = sign_musig(privKeyA_keyPath, nonceA, R_agg, output_pubkey, sighash_musig)\n",
    "sB = sign_musig(privKeyB_keyPath, nonceB, R_agg, output_pubkey, sighash_musig)\n",
    "sC = sign_musig(privKeyC_keyPath, nonceC, R_agg, output_pubkey, sighash_musig)\n",
    "e = musig_digest(R_agg, output_keyPath, sighash_musig)\n",
    "sig_agg = aggregate_musig_signatures([sA, sB, sC, e * tweak_keyPath], R_agg)\n",
    "\n",
    "print(\"Aggregate signature is {}\\n\".format(sig_agg.hex()))\n",
    "\n",
    "assert output_keyPath.verify_schnorr(sig_agg, sighash_musig)\n",
    "\n",
    "# Construct transaction witness\n",
    "spending_tx.wit.vtxinwit.append(CTxInWitness([sig_agg]))\n",
    " \n",
    "print(\"spending_tx: {}\\n\".format(spending_tx))\n",
    "\n",
    "# Test mempool acceptance\n",
    "spending_tx_str = spending_tx.serialize().hex() \n",
    "assert test.nodes[0].testmempoolaccept([spending_tx_str])[0]['allowed']\n",
    "\n",
    "print(\"Key path spending transaction weight: {}\".format(test.nodes[0].decoderawtransaction(spending_tx_str)['weight']))\n",
    "\n",
    "print(\"Success!\")"
   ]
  },
  {
   "cell_type": "markdown",
   "metadata": {},
   "source": [
    "#### 3.1.5 Example: Create a valid script path output for a short delay script\n",
    "\n",
    "In this example, we'll spend the output using a script path for the short delay script. This will not be accepted to the mempool initially, because the locktime has not been reached."
   ]
  },
  {
   "cell_type": "code",
   "execution_count": 30,
   "metadata": {},
   "outputs": [
    {
     "name": "stdout",
     "output_type": "stream",
     "text": [
      "[{'txid': '7cfb41ff678d9fcd316453f72dd7502d7b6bf4e30bd2df3b41ff92130c558c7c', 'wtxid': 'cbda675285a813f4fb51d42f1e5b8e9515af8dade026c786021bb6174fa719eb', 'allowed': False, 'reject-reason': 'non-BIP68-final'}]\n",
      "Short delay script path spending transaction weight: 766\n",
      "Success!\n"
     ]
    }
   ],
   "source": [
    "# Construct transaction\n",
    "spending_tx = CTransaction()\n",
    "\n",
    "spending_tx.nVersion = 2\n",
    "spending_tx.nLockTime = 0\n",
    "outpoint = COutPoint(tx.sha256, output_index)\n",
    "spending_tx_in = CTxIn(outpoint=outpoint, nSequence=delay)\n",
    "spending_tx.vin = [spending_tx_in]\n",
    "spending_tx.vout = [dest_output]\n",
    "\n",
    "sighash = TaprootSignatureHash(spending_tx, [output], SIGHASH_ALL_TAPROOT, 0, scriptpath=True, script=tapscript_2a.script)\n",
    "\n",
    "witness_elements = []\n",
    "\n",
    "# Add signatures to the witness\n",
    "# Remember to reverse the order of signatures\n",
    "sigA = main_privkeyA.sign_schnorr(sighash)\n",
    "sigB = main_privkeyB.sign_schnorr(sighash)\n",
    "sigD = backup_privkeyD.sign_schnorr(sighash)\n",
    "\n",
    "# Add witness to transaction\n",
    "witness_elements = [sigD, sigB, sigA, tapscript_2a.script, control_map[tapscript_2a.script]]\n",
    "spending_tx.wit.vtxinwit.append(CTxInWitness(witness_elements))\n",
    "spending_tx_str = spending_tx.serialize().hex()\n",
    "\n",
    "print(test.nodes[0].testmempoolaccept([spending_tx_str]))\n",
    "# Test timelock\n",
    "\n",
    "print(\"Short delay script path spending transaction weight: {}\".format(test.nodes[0].decoderawtransaction(spending_tx_str)['weight']))\n",
    "\n",
    "print(\"Success!\")"
   ]
  },
  {
   "cell_type": "markdown",
   "metadata": {},
   "source": [
    "#### Generate enough blocks to satisfy timelock and retest mempool acceptance\n",
    "\n",
    "Do not do this until you have completed the exercise above!"
   ]
  },
  {
   "cell_type": "code",
   "execution_count": 31,
   "metadata": {},
   "outputs": [
    {
     "name": "stdout",
     "output_type": "stream",
     "text": [
      "Success!\n"
     ]
    }
   ],
   "source": [
    "test.nodes[0].generate(delay - 1)\n",
    "\n",
    "# Timelock not satisfied - transaction not accepted\n",
    "assert not test.nodes[0].testmempoolaccept([spending_tx.serialize().hex()])[0]['allowed']\n",
    "\n",
    "test.nodes[0].generate(1)\n",
    "\n",
    "# Transaction should be accepted now that the timelock is satisfied\n",
    "assert test.nodes[0].testmempoolaccept([spending_tx.serialize().hex()])[0]['allowed']\n",
    "\n",
    "print(\"Success!\")"
   ]
  },
  {
   "cell_type": "markdown",
   "metadata": {},
   "source": [
    "#### 3.1.6 _Programming Exercise:_ Create a valid script path output for a long delay script\n",
    "\n",
    "In this exercise, we'll spend the output using a script path for the long delay script. This will not be accepted to the mempool initially, because the locktime has not been reached."
   ]
  },
  {
   "cell_type": "code",
   "execution_count": 33,
   "metadata": {},
   "outputs": [
    {
     "name": "stdout",
     "output_type": "stream",
     "text": [
      "[{'txid': '69a0fc24a2fd6819b33af3cc923672e1ee03299fc1d3901ceebfb3f50ee30ba1', 'wtxid': 'b08bcd2d5abbc001252941d21c9211219d3dc3266d4f608c4ae3199745f64c09', 'allowed': False, 'reject-reason': 'non-BIP68-final'}]\n",
      "Long delay script path spending transaction weight: 766\n",
      "Success!\n"
     ]
    }
   ],
   "source": [
    "# Construct transaction\n",
    "spending_tx = CTransaction()\n",
    "\n",
    "spending_tx.nVersion = 2\n",
    "spending_tx.nLockTime = 0\n",
    "outpoint = COutPoint(tx.sha256, output_index)\n",
    "spending_tx_in = CTxIn(outpoint=outpoint, nSequence=long_delay)\n",
    "spending_tx.vin = [spending_tx_in]\n",
    "spending_tx.vout = [dest_output]\n",
    "\n",
    "# Derive the sighash. Use tapscript_3a.\n",
    "sighash =   TaprootSignatureHash(spending_tx, [output], SIGHASH_ALL_TAPROOT, 0, scriptpath=True, script=tapscript_3a.script)\n",
    "\n",
    "witness_elements = []\n",
    "\n",
    "# Add signatures to the witness\n",
    "# Remember to reverse the order of signatures\n",
    "sigA = main_privkeyA.sign_schnorr(sighash)\n",
    "sigD = backup_privkeyD.sign_schnorr(sighash)\n",
    "sigE = backup_privkeyE.sign_schnorr(sighash)\n",
    "\n",
    "witness_elements = [sigE, sigD, sigA, tapscript_3a.script, control_map[tapscript_3a.script]]\n",
    "\n",
    "# Construct transaction witness\n",
    "spending_tx.wit.vtxinwit.append(CTxInWitness(witness_elements))\n",
    "spending_tx_str = spending_tx.serialize().hex()\n",
    "\n",
    "# Test timelock\n",
    "print(test.nodes[0].testmempoolaccept([spending_tx_str]))\n",
    "assert not test.nodes[0].testmempoolaccept([spending_tx_str])[0]['allowed']\n",
    "\n",
    "print(\"Long delay script path spending transaction weight: {}\".format(test.nodes[0].decoderawtransaction(spending_tx_str)['weight']))\n",
    "\n",
    "print(\"Success!\")"
   ]
  },
  {
   "cell_type": "markdown",
   "metadata": {},
   "source": [
    "#### Generate enough blocks to satisfy timelock and retest mempool acceptance\n",
    "\n",
    "Do not do this until you have completed the exercise above!"
   ]
  },
  {
   "cell_type": "code",
   "execution_count": 34,
   "metadata": {},
   "outputs": [
    {
     "name": "stdout",
     "output_type": "stream",
     "text": [
      "Success!\n"
     ]
    }
   ],
   "source": [
    "test.nodes[0].generate(long_delay - delay - 1)\n",
    "\n",
    "# Timelock not satisfied - transaction not accepted\n",
    "assert not test.nodes[0].testmempoolaccept([spending_tx.serialize().hex()])[0]['allowed'] \n",
    "\n",
    "test.nodes[0].generate(1)\n",
    "\n",
    "# Transaction should be accepted now that the timelock is satisfied\n",
    "assert test.nodes[0].testmempoolaccept([spending_tx.serialize().hex()])[0]['allowed']\n",
    "\n",
    "print(\"Success!\")"
   ]
  },
  {
   "cell_type": "markdown",
   "metadata": {},
   "source": [
    "#### Shutdown"
   ]
  },
  {
   "cell_type": "code",
   "execution_count": 35,
   "metadata": {},
   "outputs": [
    {
     "name": "stdout",
     "output_type": "stream",
     "text": [
      "2023-05-02T06:28:22.988000Z TestFramework./tmp/bitcoin_func_test_1p5ap6lo (INFO): Stopping nodes\n",
      "2023-05-02T06:28:23.090000Z TestFramework./tmp/bitcoin_func_test_1p5ap6lo (INFO): Cleaning up /tmp/bitcoin_func_test_1p5ap6lo on exit\n",
      "2023-05-02T06:28:23.091000Z TestFramework./tmp/bitcoin_func_test_1p5ap6lo (INFO): Tests successful\n"
     ]
    }
   ],
   "source": [
    "test.shutdown()"
   ]
  }
 ],
 "metadata": {
  "kernelspec": {
   "display_name": "taproot",
   "language": "python",
   "name": "python3"
  },
  "language_info": {
   "codemirror_mode": {
    "name": "ipython",
    "version": 3
   },
   "file_extension": ".py",
   "mimetype": "text/x-python",
   "name": "python",
   "nbconvert_exporter": "python",
   "pygments_lexer": "ipython3",
   "version": "3.11.3"
  },
  "vscode": {
   "interpreter": {
    "hash": "1cf1b860632275fc0956ffedcd23da6de4fff2d17e526b9963da185d550ea12a"
   }
  }
 },
 "nbformat": 4,
 "nbformat_minor": 2
}
