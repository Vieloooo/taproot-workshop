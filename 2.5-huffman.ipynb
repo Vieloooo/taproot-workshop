{
 "cells": [
  {
   "cell_type": "code",
   "execution_count": 2,
   "metadata": {},
   "outputs": [
    {
     "name": "stdout",
     "output_type": "stream",
     "text": [
      "Source directory configured as /home/vielo/learn/bitcoin\n"
     ]
    }
   ],
   "source": [
    "import util\n",
    "from test_framework.key import ECKey, ECPubKey, generate_key_pair, generate_bip340_key_pair\n",
    "from test_framework.script import Tapbranch, TapLeaf, TapTree"
   ]
  },
  {
   "cell_type": "markdown",
   "metadata": {},
   "source": [
    "# 2.5 Huffman TapTree Constructor\n",
    "\n",
    "When constructing a TapTree, we can optimize the tree structure to minimize the expected witness weight when spending along the script path. The **expected witness weight** is determined by summing up all probability-adjusted witness weights of the TapScripts in the TapTree.\n",
    "\n",
    "For example, for a TapTree with TapLeaves A, B, and C, the expected witness weight is determined as follows:\n",
    "\n",
    "```\n",
    "Expected-witness-weight =\n",
    "      Probability-of-A * Witness-weight-A\n",
    "    + Probability-of-B * Witness-weight-B\n",
    "    + Probability-of-C * Witness-weight-C\n",
    "```\n",
    "\n",
    "In order to minimize the expected witness weight for the script path, we can try to reduce the size of the required **inclusion proof** for those TapScripts which have a higher probability by placing these closer to the root of the tree."
   ]
  },
  {
   "cell_type": "markdown",
   "metadata": {},
   "source": [
    "## Part 1: Huffman Algorithm\n",
    "\n",
    "We can use [Huffman's algorithm](https://en.wikipedia.org/wiki/Huffman_coding) to build tree structures from their leaves and assigned frequencies. The assigned frequency of each leaf is based on its expected probability of execution. Note that it is the ratios between the assigned leaf frequencies which determine the resulting tree structure, not their absolute values.\n",
    "\n",
    "The Huffman algorithm to construct a TapTree structure can be described as follows:\n",
    "\n",
    "* Place all leaves in a queue and sort by ascending frequency\n",
    "* While length(queue) > 1 :\n",
    "    * Pop the two elements with the lowest frequencies\n",
    "    * Generate the parent tapbranch with a frequency equal to the sum of the child frequencies\n",
    "    * Add parent tapbranch to queue and re-sort\n",
    "* Tree root is represented by final queue element"
   ]
  },
  {
   "cell_type": "markdown",
   "metadata": {},
   "source": [
    "![test](images/huffman_intro0.jpg)"
   ]
  },
  {
   "cell_type": "markdown",
   "metadata": {},
   "source": [
    "**Note:** If more than 2 leaves or tapbranches share the same assigned frequency during construction with the Huffman algorithm, the selection of the two queue elements to generate the next parent becomes ambiguous. In our implementation, we first sort our queue by **assigned frequency**, then by **tagged hash** value. This way, the sorting of the queue is always unambiguous given a distinct set of leaves. _This secondary, arbitrary sorting criteria does not affect the expected witness weight of spending along the script path, since the assigned frequencies of the leaves or tapbranches in question are equal._"
   ]
  },
  {
   "cell_type": "markdown",
   "metadata": {},
   "source": [
    "#### Example 2.5.1: Construct a TapTree with the Huffman algorithm\n",
    "\n",
    "* We manually construct the TapTree from a set of 5 pay-to-pubkey TapLeaves with assigned frequencies as shown in the image above."
   ]
  },
  {
   "cell_type": "code",
   "execution_count": 3,
   "metadata": {},
   "outputs": [
    {
     "name": "stdout",
     "output_type": "stream",
     "text": [
      "Taptree descriptor: tp(af455f4989d122e9185f8c351dbaecd13adca3eef8a9d38ef8ffed6867e342e3,[[ts(pk(53e5993b6ca6eb9084d71572156fcd1cd9939eae33772ec28f74018c6134e628)),ts(pk(6c1d0aa3f2b1052b074818a658591f5900b09258965411bd81f1b1060ecd43d9))],[ts(pk(0b07c7a4b9309ba9f90aa68ca3f3cbc0129a3e53268da01aa64b5c15d2577ffb)),[ts(pk(8b8a98636e11f5608ecd163576708cc2d6473bb612f380824f08831b2cbcd031)),ts(pk(ca3a308e6ca125e3c29ddd8de194c5164883542430f106524a00a54b80bd8bb2))]]])\n",
      "\n"
     ]
    }
   ],
   "source": [
    "internal_pubkey = ECPubKey()\n",
    "internal_pubkey.set(bytes.fromhex('af455f4989d122e9185f8c351dbaecd13adca3eef8a9d38ef8ffed6867e342e3'))\n",
    "\n",
    "# Derive pay-to-pubkey tapleaves\n",
    "privkeyA, pubkeyA = generate_bip340_key_pair()\n",
    "privkeyB, pubkeyB = generate_bip340_key_pair()\n",
    "privkeyC, pubkeyC = generate_bip340_key_pair()\n",
    "privkeyD, pubkeyD = generate_bip340_key_pair()\n",
    "privkeyE, pubkeyE = generate_bip340_key_pair()\n",
    "\n",
    "tapleafA = TapLeaf().construct_pk(pubkeyA)\n",
    "tapleafB = TapLeaf().construct_pk(pubkeyB)\n",
    "tapleafC = TapLeaf().construct_pk(pubkeyC)\n",
    "tapleafD = TapLeaf().construct_pk(pubkeyD)\n",
    "tapleafE = TapLeaf().construct_pk(pubkeyE)\n",
    "\n",
    "# Sorted queue: (5, A), (4, B), (3, C), (2, D), (1, E)\n",
    "# Tapbranch DE = parent(D,E)\n",
    "# Assigned frequency of DE = 2 + 1 = 3\n",
    "tapbranchDE = Tapbranch(tapleafD, tapleafE)\n",
    "\n",
    "# Sorted queue: (5, A), (4, B), (3, C), (3, DE), \n",
    "# Tapbranch CDE = parent(C, DE)\n",
    "# Assigned frequency of CDE = 3 + 3 = 6\n",
    "tapbranchCDE = Tapbranch(tapleafC, tapbranchDE)\n",
    "\n",
    "# Sorted queue: (6, CDE), (5, A), (4, B)\n",
    "# Tapbranch AB = parent(A,B)\n",
    "# Assigned frequency of AB = 5 + 4 = 9\n",
    "tapbranchAB = Tapbranch(tapleafA, tapleafB)\n",
    "\n",
    "# Sorted queue: (9, AB), (6, CDE)\n",
    "# Tapbranch ABCDE = parent(AB, CDE)\n",
    "tapbranchABCDE = Tapbranch(tapbranchAB, tapbranchCDE)\n",
    "\n",
    "# Tree construction\n",
    "taptree = TapTree(key=internal_pubkey, root=tapbranchABCDE)\n",
    "\n",
    "segwit_v1_script, tweak, control_map = taptree.construct()\n",
    "print(\"Taptree descriptor: {}\\n\".format(taptree.desc))"
   ]
  },
  {
   "cell_type": "markdown",
   "metadata": {},
   "source": [
    "## Part 2: Huffman TapTree Constructor Method\n",
    "\n",
    "We reconstruct the same TapTree from the example above using the `TapTree.huffman_constructor()` method. \n",
    "\n",
    "* That function takes a list of `(assigned_frequency,tapleaf)` tuples, where:\n",
    "    * `assigned_frequency` is an `int` \n",
    "    * `tapleaf` is a `TapLeaf` object\n",
    "   "
   ]
  },
  {
   "cell_type": "markdown",
   "metadata": {},
   "source": [
    "#### Example 2.5.2: Construct a TapTree with the Huffman constructor method\n",
    "* We compare the resulting TapTree with the one constructed manually in example 2.5.1"
   ]
  },
  {
   "cell_type": "code",
   "execution_count": 4,
   "metadata": {},
   "outputs": [
    {
     "name": "stdout",
     "output_type": "stream",
     "text": [
      "Taptree descriptor: tp(af455f4989d122e9185f8c351dbaecd13adca3eef8a9d38ef8ffed6867e342e3,[[[ts(pk(ca3a308e6ca125e3c29ddd8de194c5164883542430f106524a00a54b80bd8bb2)),ts(pk(8b8a98636e11f5608ecd163576708cc2d6473bb612f380824f08831b2cbcd031))],ts(pk(0b07c7a4b9309ba9f90aa68ca3f3cbc0129a3e53268da01aa64b5c15d2577ffb))],[ts(pk(6c1d0aa3f2b1052b074818a658591f5900b09258965411bd81f1b1060ecd43d9)),ts(pk(53e5993b6ca6eb9084d71572156fcd1cd9939eae33772ec28f74018c6134e628))]])\n",
      "\n",
      "TapTrees are identical: True\n"
     ]
    }
   ],
   "source": [
    "taptree2 = TapTree()\n",
    "taptree2.key = internal_pubkey\n",
    "taptree2.huffman_constructor([(5, tapleafA), (4, tapleafB), (3, tapleafC), (2, tapleafD), (1, tapleafE)])\n",
    "print(\"Taptree descriptor: {}\\n\".format(taptree2.desc))\n",
    "\n",
    "segwit_v1_script2, tweak2, control_map2 = taptree2.construct()\n",
    "print(\"TapTrees are identical: {}\".format(tweak == tweak2))"
   ]
  },
  {
   "cell_type": "markdown",
   "metadata": {},
   "source": [
    "#### _Programming Exercise 2.5.3:_ Assign the leaf frequencies for this tree structure\n",
    "\n",
    "Given the TapTree structure shown below, try to assign compatible leaf frequencies for the Huffman constructor. In other words, try to follow the Huffman algorithm from the lowest depth of the tree and determine what frequency values would be necessary in order to construct the tree depicted in the image below.\n",
    "\n",
    "For TapLeaves A through F:\n",
    "* Generate `pk` TapScripts for each.\n",
    "* Assign their frequencies so that the TapTree resulting from the Huffman constructor has the desired tree structure."
   ]
  },
  {
   "cell_type": "markdown",
   "metadata": {},
   "source": [
    "![test](images/huffman_intro1.jpg)"
   ]
  },
  {
   "cell_type": "code",
   "execution_count": 5,
   "metadata": {},
   "outputs": [
    {
     "name": "stdout",
     "output_type": "stream",
     "text": [
      "Taptree descriptor: tp(af455f4989d122e9185f8c351dbaecd13adca3eef8a9d38ef8ffed6867e342e3,[[[[ts(pk(8c81de544f2d99ddef90573ff9304d341eb30b57de8ad6f7e29ae9dd7f2e24a7)),ts(pk(8f188011ad18feb7dfde8c628ff1a97e254c7dcbf2caf4d34bc9d04e6a2f353e))],[ts(pk(7f917d042b072f326cf7690afa086fecdd8de872b48dbcfe887d679998be5fdf)),ts(pk(3c5d3c7f0c15fe7a0b8da611cc1fce9f86a24fd67522e364bd0e9d0bbd3477a6))]],ts(pk(2e0113576d9988fe08e658d3b5624f9c5908a653634c64287aaebfa66efef571))],ts(pk(44385612856280116107ae1831ec78615bc0c06146eea77508949a75c7eb570a))])\n",
      "\n"
     ]
    }
   ],
   "source": [
    "internal_pubkey = ECPubKey()\n",
    "internal_pubkey.set(bytes.fromhex('af455f4989d122e9185f8c351dbaecd13adca3eef8a9d38ef8ffed6867e342e3'))\n",
    "\n",
    "# Derive pay-to-pubkey TapLeaves\n",
    "privkeyA, pubkeyA = generate_bip340_key_pair()\n",
    "privkeyB, pubkeyB = generate_bip340_key_pair()\n",
    "privkeyC, pubkeyC = generate_bip340_key_pair()\n",
    "privkeyD, pubkeyD = generate_bip340_key_pair()\n",
    "privkeyE, pubkeyE = generate_bip340_key_pair()\n",
    "privkeyF, pubkeyF = generate_bip340_key_pair()\n",
    "\n",
    "tapleafA = TapLeaf().construct_pk(pubkeyA)\n",
    "tapleafB = TapLeaf().construct_pk(pubkeyB)\n",
    "tapleafC = TapLeaf().construct_pk(pubkeyC)\n",
    "tapleafD = TapLeaf().construct_pk(pubkeyD)\n",
    "tapleafE = TapLeaf().construct_pk(pubkeyE)\n",
    "tapleafF = TapLeaf().construct_pk(pubkeyF)\n",
    "\n",
    "# Assign frequencies to the TapLeaves to generate the desired tree\n",
    "weightA = 1\n",
    "weightB = 1\n",
    "weightC = 1\n",
    "weightD = 1\n",
    "weightE = 4\n",
    "weightF = 8\n",
    "\n",
    "# Construct TapTree with Huffman constructor\n",
    "taptree = TapTree()\n",
    "taptree.key = internal_pubkey\n",
    "taptree.huffman_constructor([(weightA, tapleafA), (weightB, tapleafB), (weightC, tapleafC), (weightD, tapleafD), (weightE, tapleafE), (weightF, tapleafF)])\n",
    "print(\"Taptree descriptor: {}\\n\".format(taptree.desc))"
   ]
  },
  {
   "cell_type": "markdown",
   "metadata": {},
   "source": [
    "#### _Check the leaf depths in your constructed Taptree._\n",
    "\n",
    "Run the cell below to check if you have constructed the correct tree structure with your assigned frequencies."
   ]
  },
  {
   "cell_type": "code",
   "execution_count": 6,
   "metadata": {},
   "outputs": [
    {
     "name": "stdout",
     "output_type": "stream",
     "text": [
      "TapLeafA is located at depth 4\n",
      "TapLeafB is located at depth 4\n",
      "TapLeafC is located at depth 4\n",
      "TapLeafD is located at depth 4\n",
      "TapLeafE is located at depth 2\n",
      "TapLeafF is located at depth 1\n",
      "Your constructed TapTree is correct!\n"
     ]
    }
   ],
   "source": [
    "tapleaves = [(\"A\", tapleafA, 4), \\\n",
    "             (\"B\", tapleafB, 4), \\\n",
    "             (\"C\", tapleafC, 4), \\\n",
    "             (\"D\", tapleafD, 4), \\\n",
    "             (\"E\", tapleafE, 2), \\\n",
    "             (\"F\", tapleafF, 1)]\n",
    "\n",
    "segwit_v1_script, tweak, control_map = taptree.construct()\n",
    "\n",
    "for leaf_label, tapleaf, depth in tapleaves:\n",
    "    controlblock = control_map[tapleaf.script]\n",
    "    print(\"TapLeaf{} is located at depth {}\".format(leaf_label, depth))\n",
    "    assert int((len(controlblock) - 33)/32) == depth\n",
    "    \n",
    "print(\"Your constructed TapTree is correct!\")"
   ]
  },
  {
   "cell_type": "markdown",
   "metadata": {},
   "source": [
    "**Congratulations!** In this chapter, you have:\n",
    "\n",
    "- Learned how to optimize the expected witness weight for a script path spend.\n",
    "- Learned how a TapTree is constructed with the Huffman algorithm.\n",
    "    - TapLeaves which are assigned higher frequencies are closer to the tree root.\n",
    "    - TapLeaves closer to the TapTree root are cheaper to spend, as the inclusion proof is smaller.\n",
    "- Learned how a TapTree is constructed with the `TapTree.huffman_contructor()` method.\n",
    "- Assigned frequencies to TapLeaves to construct a specific tree structure with the Huffman algorithm."
   ]
  }
 ],
 "metadata": {
  "kernelspec": {
   "display_name": "taproot",
   "language": "python",
   "name": "python3"
  },
  "language_info": {
   "codemirror_mode": {
    "name": "ipython",
    "version": 3
   },
   "file_extension": ".py",
   "mimetype": "text/x-python",
   "name": "python",
   "nbconvert_exporter": "python",
   "pygments_lexer": "ipython3",
   "version": "3.11.3"
  },
  "vscode": {
   "interpreter": {
    "hash": "1cf1b860632275fc0956ffedcd23da6de4fff2d17e526b9963da185d550ea12a"
   }
  }
 },
 "nbformat": 4,
 "nbformat_minor": 2
}
