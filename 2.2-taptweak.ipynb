{
 "cells": [
  {
   "cell_type": "code",
   "execution_count": 34,
   "metadata": {},
   "outputs": [],
   "source": [
    "import random\n",
    "from io import BytesIO\n",
    "\n",
    "import util\n",
    "from test_framework.address import program_to_witness\n",
    "from test_framework.key import ECKey, ECPubKey, SECP256K1_ORDER, generate_key_pair, generate_bip340_key_pair, generate_schnorr_nonce, int_or_bytes\n",
    "from test_framework.messages import COutPoint, CTxIn, CTxInWitness, CTxOut, sha256\n",
    "from test_framework.musig import generate_musig_key, aggregate_schnorr_nonces, sign_musig, aggregate_musig_signatures, musig_digest\n",
    "from test_framework.script import CScript, CTransaction, OP_RETURN, SIGHASH_ALL_TAPROOT, TaprootSignatureHash, tagged_hash"
   ]
  },
  {
   "attachments": {},
   "cell_type": "markdown",
   "metadata": {},
   "source": [
    "# 2.2 TapTweak\n",
    "\n",
    "* Part 1: Tweaking the public key; commitment schemes with tweaks\n",
    "* Part 2: Spending a (tweaked) taproot output along the key path\n",
    "* Part 3 (Case Study): contract commitments\n",
    "\n",
    "The linear property of BIP340 means that we can encode a commitment into a public key, and then reveal that commitment when signing with the private key. We do that by _tweaking_ the private key with the commitment, and using the associated _tweaked_ pubkey. When signing, we can reveal that the original keys were tweaked by the commitment.\n",
    "\n",
    "In part 1, we'll learn about how private/public key pairs can be tweaked, and **how we can use that to create a secure commitment scheme.** In part 2, we'll create a segwit v1 output and spend it along the key path, using a tweaked private and public key. Part 3 of this chapter is a case study, showing how pay-to-contract with tweaked keys can be used instead of OP_RETURN outputs to create timestamped commitments."
   ]
  },
  {
   "cell_type": "markdown",
   "metadata": {},
   "source": [
    "## Part 1: Tweaking the public key\n",
    "\n",
    "Instead of using our original public key as the witness program, we use a tweaked public key.\n",
    "\n",
    "* `[01] [32B Tweaked Public Key]`\n",
    "\n",
    "Tweaking a public key means to alter it with a value (the tweak) such that it remains spendable with knowledge of the original private key and tweak.\n",
    "\n",
    "* `x` / `P`: Original private key / public key pair\n",
    "* `t` / `T`: Tweak value / tweak point\n",
    "* Output script: `[01] [P + T]` = `[01] [xG + tG]`\n",
    "* Spendable by the tweaked private key: `x + t`\n",
    "\n",
    "An observer cannot distinguish between a tweaked and untweaked public key."
   ]
  },
  {
   "cell_type": "markdown",
   "metadata": {},
   "source": [
    "#### Example 2.2.1: Signing with a tweaked keypair\n",
    "\n",
    "In this example, we generate a key pair as before, and then tweak both the private key and public key. We then sign with the tweaked private key and verify that the signature is valid.\n",
    "\n",
    "A _tweak_ is positive scalar value `t` where `0 < t < SECP256K1_ORDER`. There is an associated tweak point `T` such that `T = t*G`.\n",
    "\n",
    "The private key is tweaked by the tweak scalar: `x' = x + t` and the public key is tweaked by the tweak point: `P' = P + T`.\n",
    "\n",
    "The tweaked private key `x'` can be used to produce a valid signature for the tweaked pubkey `P'`."
   ]
  },
  {
   "cell_type": "code",
   "execution_count": 35,
   "metadata": {},
   "outputs": [
    {
     "name": "stdout",
     "output_type": "stream",
     "text": [
      "Private key: 108442646123315402425570234858179987977786203344101162844865425941599995824852\n",
      "Public key: 07cfc6586105d1ca1510e056612ec12010a9acb9a1e4f181a0dfb0e398720fa0\n",
      "\n",
      "Tweak scalar: 84809323065814483076565186045457869522942605660501824010598399171768251224347\n",
      "Tweak point: 0f7492444459a158e67ea787b6dd7bbee2070f60d12038efc00b6692bcd9382d\n",
      "\n",
      "Tweaked private key: 77459879951813690078564435894949949647891244725528082472858661971850085554862\n",
      "Tweaked pubkey: fa86dce9a9216174a6b5b283205aac6617e0150876a81ddca697d7acdbe4972b\n",
      "\n",
      "Success!\n"
     ]
    }
   ],
   "source": [
    "# Generate a key pair\n",
    "privkey, pubkey = generate_bip340_key_pair()\n",
    "\n",
    "print(\"Private key: {}\\nPublic key: {}\\n\".format(privkey.secret, pubkey.get_bytes().hex()))\n",
    "\n",
    "# Generate a random tweak scalar 0 < t < SECP256K1_ORDER and derive its associated tweak point\n",
    "tweak = random.randrange(1, SECP256K1_ORDER)\n",
    "tweak_private = ECKey().set(tweak)\n",
    "tweak_point = tweak_private.get_pubkey()\n",
    "print(\"Tweak scalar: {}\\nTweak point: {}\\n\".format(tweak_private.secret, tweak_point.get_bytes().hex()))\n",
    "\n",
    "# Derive the tweaked private key and public key\n",
    "privkey_tweaked = privkey + tweak_private\n",
    "pubkey_tweaked = pubkey + tweak_point\n",
    "print(\"Tweaked private key: {}\\nTweaked pubkey: {}\\n\".format(privkey_tweaked.secret, pubkey_tweaked.get_bytes().hex()))\n",
    "\n",
    "# Sign the message with tweaked key pair and verify the signature\n",
    "msg = sha256(b'msg')\n",
    "sig = privkey_tweaked.sign_schnorr(msg)\n",
    "assert pubkey_tweaked.verify_schnorr(sig, msg)\n",
    "print(\"Success!\")"
   ]
  },
  {
   "cell_type": "markdown",
   "metadata": {},
   "source": [
    "#### _Programming Exercise 2.2.2:_  Signing with a tweaked 2-of-2 MuSig key pair\n",
    "\n",
    "In this exercise, we tweak an MuSig aggregate pubkey, and then sign for it using the individual participant keys. The MuSig pubkey aggregation step is done for you.\n",
    "\n",
    "_Question: How is the tweak incorporated into the final signature?_"
   ]
  },
  {
   "cell_type": "code",
   "execution_count": 36,
   "metadata": {},
   "outputs": [
    {
     "name": "stdout",
     "output_type": "stream",
     "text": [
      "Success!\n"
     ]
    }
   ],
   "source": [
    "# Generate key pairs\n",
    "privkey1, pubkey1 = generate_key_pair()\n",
    "privkey2, pubkey2 = generate_key_pair()\n",
    "\n",
    "# Create an aggregate MuSig pubkey\n",
    "c_map, agg_pubkey = generate_musig_key([pubkey1, pubkey2])\n",
    "\n",
    "# Apply challenge factors to keys\n",
    "privkey1_c = privkey1 * c_map[pubkey1]\n",
    "privkey2_c = privkey2 * c_map[pubkey2]\n",
    "pubkey1_c = pubkey1 * c_map[pubkey1]\n",
    "pubkey2_c = pubkey2 * c_map[pubkey2]\n",
    "\n",
    "# Negate if needed\n",
    "if agg_pubkey.get_y()%2 != 0:\n",
    "    agg_pubkey.negate()\n",
    "    privkey1_c.negate()\n",
    "    privkey2_c.negate()\n",
    "    pubkey1_c.negate()\n",
    "    pubkey2_c.negate()\n",
    "    \n",
    "# Tweak musig public key\n",
    "# Method: ECPubKey.tweak_add()\n",
    "tweak = random.randrange(1, SECP256K1_ORDER)\n",
    "agg_pubkey_tweaked =  agg_pubkey.tweak_add(tweak)\n",
    "\n",
    "# Nonce generation & aggregation\n",
    "# Remember to negate the individual nonce values if required\n",
    "# Method: generate_schnorr_nonce()\n",
    "# Method: aggregate_schnorr_nonces()\n",
    "k1 =  generate_schnorr_nonce()\n",
    "k2 =  generate_schnorr_nonce()\n",
    "R_agg, negated =  aggregate_schnorr_nonces([k1.get_pubkey(), k2.get_pubkey()])\n",
    "if negated:\n",
    "    k1.negate()\n",
    "    k2.negate()\n",
    "\n",
    "# Signing and signature aggregation\n",
    "msg = sha256(b'msg')\n",
    "\n",
    "# Sign individually and then aggregate partial signatures. A factor (e * tweak)\n",
    "# needs to be added to the list of partial signatures\n",
    "# Method: sign_musig(private_key, nonce_key, nonce_point, public_key, msg)\n",
    "# Method: aggregate_musig_signatures(partial_signature_list, aggregate nonce)\n",
    "e = musig_digest(R_agg, agg_pubkey_tweaked, msg)\n",
    "s1 =  sign_musig(privkey1_c, k1, R_agg, agg_pubkey_tweaked, msg)\n",
    "s2 =  sign_musig(privkey2_c, k2, R_agg, agg_pubkey_tweaked, msg)\n",
    "sig_agg =  aggregate_musig_signatures([s1,s2,(e*tweak)], R_agg)\n",
    "assert agg_pubkey_tweaked.verify_schnorr(sig_agg, msg)\n",
    "print(\"Success!\")"
   ]
  },
  {
   "cell_type": "markdown",
   "metadata": {},
   "source": [
    "## Commitment schemes with tweaks\n",
    "\n",
    "Taproot uses the tweak as a commitment for spending script paths. However, simply applying the committed value as a public key tweak is not sufficient, as this does not represent a secure cryptographic commitment.\n",
    "\n",
    "![test](images/taptweak0.jpg)\n",
    "\n",
    "Instead, the committed value must first be hashed with the untweaked public key point. This commitment scheme is called *pay-to-contract*. **It does not allow the modification of a committed value for a given public key point Q.**"
   ]
  },
  {
   "cell_type": "markdown",
   "metadata": {},
   "source": [
    "#### Example 2.2.3: Tweaking a public key Q with commitment data\n",
    "\n",
    "In this example we demonstrate an insecure commitment scheme. The committed value `c` can be trivially modified to `c'`, and by setting `x'` to `x + c - c'`, the public key point equation `Q = x'G + c'G` still holds.\n",
    "\n",
    "First, we commit a contract between Alice and Bob and then demonstrate how this unsafe commitment can be changed.\n",
    "\n",
    "* The initial committed contract is: `Alice agrees to pay 10 BTC to Bob`"
   ]
  },
  {
   "cell_type": "code",
   "execution_count": 37,
   "metadata": {},
   "outputs": [
    {
     "name": "stdout",
     "output_type": "stream",
     "text": [
      "Private key: 35886160248976660479149688860833901037241496164459177415436483284246423366175\n",
      "Public key: e476147ed20e98aded35650d79ad3f5d7aa10585cb95b298e791e23cf91edc10\n",
      "\n",
      "Tweak from original contract: 502c616d9910774e00edb71f01b951962cc44ec67072757767f3906ff82ebfe8\n",
      "\n",
      "Tweaked private key: 72149601830637600222406910729002987347647684324467821724083982742367483079175\n",
      "Tweaked public key: 3543911bb73700bb3e8bd0b7d338b2a70c0c34230a57beac0cff72eb114be81d\n",
      "\n",
      "Alice has produced a valid signature for Q: True\n",
      "The signature appears to commit to 'Alice agrees to pay 10 BTC to Bob': True\n"
     ]
    }
   ],
   "source": [
    "# Alice generates a key pair\n",
    "x_key, P_key = generate_key_pair()\n",
    "print(\"Private key: {}\\nPublic key: {}\\n\".format(x_key.secret, P_key.get_bytes().hex()))\n",
    "\n",
    "# Alice generates the tweak from the contract\n",
    "contract = \"Alice agrees to pay 10 BTC to Bob\"\n",
    "t = sha256(contract.encode('utf-8'))\n",
    "print(\"Tweak from original contract: {}\\n\".format(t.hex()))\n",
    "\n",
    "# Alice tweaks her key pair\n",
    "Q_key = P_key.tweak_add(t)\n",
    "q_key = x_key.add(t)\n",
    "print(\"Tweaked private key: {}\\nTweaked public key: {}\\n\".format(q_key.secret, Q_key.get_bytes().hex()))\n",
    "\n",
    "# Alice produces a valid signature for this tweaked public key\n",
    "msg = sha256(b'I agree to the committed contract')\n",
    "sig = q_key.sign_schnorr(msg)\n",
    "\n",
    "# Bob can verify that sig is a valid signature for the public key Q:\n",
    "verify_sig = Q_key.verify_schnorr(sig, msg)\n",
    "print(\"Alice has produced a valid signature for Q: {}\".format(verify_sig))\n",
    "\n",
    "# Alice provides the untweaked public key P to Bob.\n",
    "# Bob believes he can verify that the signature committed to the tweak t:\n",
    "verify_tweak = P_key.tweak_add(sha256(contract.encode('utf-8'))) == Q_key\n",
    "print(\"The signature appears to commit to '{}': {}\".format(contract, verify_tweak))\n",
    "# Bob need to verify two things: \n",
    "## 1. The signature is valid for tweaked public key Q\n",
    "## 2. Pubkey key Q is the result of tweaking pubkey P with tweak t (contract state)"
   ]
  },
  {
   "cell_type": "markdown",
   "metadata": {},
   "source": [
    "#### Example 2.2.4: Modifying the commitment tweak of public key Q\n",
    "\n",
    "However, note that is possible for Alice to modify this insecure commitment without changing the value of pub key `Q`.\n",
    "* The committed contract is changed to : `Alice agrees to pay 0.1 BTC to Bob`"
   ]
  },
  {
   "cell_type": "code",
   "execution_count": 38,
   "metadata": {},
   "outputs": [
    {
     "name": "stdout",
     "output_type": "stream",
     "text": [
      "Tweak from original contract: 502c616d9910774e00edb71f01b951962cc44ec67072757767f3906ff82ebfe8\n",
      "Tweak from modified contract: f24d386cccd01e815007b3a6278151d51a4bbf8835813120cfa0f937cb82f021\n",
      "\n",
      "Alice has produced a valid signature for Q: True\n",
      "The signature appears to commit to 'Alice agrees to pay 0.1 BTC to Bob': True\n"
     ]
    }
   ],
   "source": [
    "# Alice modifies the contract and produces an alternative tweak\n",
    "alternative_contract = \"Alice agrees to pay 0.1 BTC to Bob\"\n",
    "t2 = sha256(alternative_contract.encode('utf-8'))\n",
    "print(\"Tweak from original contract: {}\".format(t.hex()))\n",
    "print(\"Tweak from modified contract: {}\\n\".format(t2.hex()))\n",
    "\n",
    "# Alice modifies her original private key and public key\n",
    "# x2 = x - t2 + t\n",
    "x_int = x_key.as_int()\n",
    "t_int = int.from_bytes(t, \"big\") \n",
    "t2_int = int.from_bytes(t2, \"big\") \n",
    "x2_key, P2_key = generate_key_pair((x_int - t2_int + t_int) % SECP256K1_ORDER)\n",
    "\n",
    "# Alice can still produce a valid signature for Q\n",
    "msg2 = sha256(b'I agree to the committed contract')\n",
    "sig2 = q_key.sign_schnorr(msg2)\n",
    "\n",
    "# Bob can verify that sig is a valid signature for the public key Q:\n",
    "verify_sig = Q_key.verify_schnorr(sig, msg)\n",
    "print(\"Alice has produced a valid signature for Q: {}\".format(verify_sig))\n",
    "\n",
    "# Alice claims that P2 is the untweaked public key.\n",
    "# Bob believes he can verify that the signature committed to the tweak t:\n",
    "verify_tweak = P2_key.tweak_add(sha256(alternative_contract.encode('utf-8'))) == Q_key\n",
    "print(\"The signature appears to commit to '{}': {}\".format(alternative_contract, verify_tweak))"
   ]
  },
  {
   "attachments": {},
   "cell_type": "markdown",
   "metadata": {},
   "source": [
    "#### Summary of 2.2.3, 2.2.4: Insecure practice of tweaking a public key with commitment data\n",
    "\n",
    "We have demonstrated how a simple key tweak with commitment data does not work as a commitment scheme.\n",
    "* Tweaking the original public key `P` with commitment data hides the commitment.\n",
    "* However, the original public key `P` can be recomputed (`P2`) for any modified commitment, without altering the tweaked public key `Q`.\n",
    "\n",
    "To any observer, **both original and modified \"commitments\" appear to be valid for the same public key `Q`**."
   ]
  },
  {
   "cell_type": "markdown",
   "metadata": {},
   "source": [
    "#### Example 2.2.5 - Pay-to-contract: Tweaking the pubkey with `H(P|msg)`\n",
    "\n",
    "In this example, we demonstrate a _secure_ commitment scheme called pay-to-contract. The private key is tweaked with the scalar `H(P|c)`. Since `P` appears both inside and outside the hash, it isn't possible to solve for a different contract `c` by modifying `x`.\n",
    "\n",
    "* Alice can now no longer invalidate her previous contract commitment with Bob."
   ]
  },
  {
   "cell_type": "code",
   "execution_count": 39,
   "metadata": {},
   "outputs": [
    {
     "name": "stdout",
     "output_type": "stream",
     "text": [
      "Private key: 57217940607278352090342367740109684407417153079604903551437412083312303478735\n",
      "Public key: 475543c24c7606070e9153498b51b86521b50f1448d46b89541c68ba5b6230c6\n",
      "\n",
      "Tweaked private key: 29928587905650041041511642355669646499614770688258737604664975029809211421203\n",
      "Tweaked public key: 1bde81c6749215da9dc1deb2c6ab851452d38b9f923c2516d06e732b4aff6cf7\n",
      "\n",
      "Alice has produced a valid signature for Q: True\n",
      "The signature commits to 'Alice agrees to pay 10 BTC to Bob': True\n"
     ]
    }
   ],
   "source": [
    "# Alice generates a key pair\n",
    "x_key, P_key = generate_key_pair()\n",
    "print(\"Private key: {}\\nPublic key: {}\\n\".format(x_key.secret, P_key.get_bytes().hex()))\n",
    "\n",
    "# Alice computes the tweak from H(P|msg)\n",
    "contract = \"Alice agrees to pay 10 BTC to Bob\"\n",
    "t = tagged_hash(\"TapTweak\", P_key.get_bytes() + contract.encode('utf-8'))\n",
    "\n",
    "# Alice tweaks her key pair\n",
    "Q_key = P_key.tweak_add(t)\n",
    "q_key = x_key.add(t)\n",
    "print(\"Tweaked private key: {}\\nTweaked public key: {}\\n\".format(q_key.secret, Q_key.get_bytes().hex()))\n",
    "\n",
    "# Alice signs a valid message\n",
    "msg = sha256(b'I agree to the committed contract')\n",
    "sig = q_key.sign_schnorr(msg)\n",
    "\n",
    "# Bob can verify that sig is a valid signature for the public key Q:\n",
    "verify_sig = Q_key.verify_schnorr(sig, msg)\n",
    "print(\"Alice has produced a valid signature for Q: {}\".format(verify_sig))\n",
    "\n",
    "# Alice provides the untweaked public key P to Bob.\n",
    "# Bob believes he can verify that the signature committed to the tweak t:\n",
    "verify_tweak = P_key.tweak_add(t) == Q_key\n",
    "print(\"The signature commits to '{}': {}\".format(contract, verify_tweak))"
   ]
  },
  {
   "cell_type": "markdown",
   "metadata": {},
   "source": [
    "## Part 2: Spending a (tweaked) taproot output along the key path\n",
    "\n",
    "In this exercise, we'll create a segwit v1 output that sends to a tweaked public key. We'll then spend that output along the key path using the tweaked private key.\n",
    "\n",
    "Such as spend does not reveal the committed tweak to the observer and is indistinguishable from any other key path spend."
   ]
  },
  {
   "cell_type": "markdown",
   "metadata": {},
   "source": [
    "#### _Programming Exercise 2.2.6:_ Construct taproot output with tweaked public key"
   ]
  },
  {
   "cell_type": "code",
   "execution_count": 40,
   "metadata": {},
   "outputs": [
    {
     "name": "stdout",
     "output_type": "stream",
     "text": [
      "Success! Address: bcrt1pjnux0f7037ysqv2aycfntus0t606sjyu0qe2xqewlmhulpdujqeq2z4st9\n"
     ]
    }
   ],
   "source": [
    "# Example key pair\n",
    "privkey = ECKey().set(102118636618570133408735518698955378316807974995033705330357303547139065928052)\n",
    "internal_pubkey = privkey.get_pubkey()\n",
    "\n",
    "if internal_pubkey.get_y()%2 != 0:\n",
    "    privkey.negate()\n",
    "    internal_pubkey.negate()\n",
    "\n",
    "# Example tweak\n",
    "taptweak = bytes.fromhex('2a2fb476ec9962f262ff358800db0e7364287340db73e5e48db36d1c9f374e30')\n",
    "\n",
    "# Tweak the private key\n",
    "# Method: ECKey.add()\n",
    "tweaked_privkey = privkey.add(taptweak)\n",
    "\n",
    "# Tweak the public key\n",
    "# Method: use tweak_add()\n",
    "taproot_pubkey =  internal_pubkey.tweak_add(taptweak)\n",
    "taproot_pubkey_b = taproot_pubkey.get_bytes()\n",
    "\n",
    "# Derive the bech32 address\n",
    "# Use program_to_witness(version_int, pubkey_bytes)\n",
    "address =  program_to_witness(0x1, taproot_pubkey_b)\n",
    "\n",
    "assert address == \"bcrt1pjnux0f7037ysqv2aycfntus0t606sjyu0qe2xqewlmhulpdujqeq2z4st9\"\n",
    "print(\"Success! Address: {}\".format(address))"
   ]
  },
  {
   "cell_type": "markdown",
   "metadata": {},
   "source": [
    "#### Example 2.2.7: Start Bitcoin Core node and send coins to the taproot address\n",
    "\n",
    "Only run setup once, or after a clean shutdown."
   ]
  },
  {
   "cell_type": "code",
   "execution_count": 41,
   "metadata": {},
   "outputs": [
    {
     "name": "stdout",
     "output_type": "stream",
     "text": [
      "TestWrapper is already running!\n",
      "\n",
      "Client version is /Satoshi:25.99.0(testnode0)/\n",
      "\n",
      "Balance: 8798.00000000\n",
      "\n",
      "Transaction f5ae98b7d454b6cbec3a0aa18a3fad3cf8aec6d5180a7b1ce0a065f894a779af, output 0\n",
      "sent to bcrt1pjnux0f7037ysqv2aycfntus0t606sjyu0qe2xqewlmhulpdujqeq2z4st9\n",
      "\n"
     ]
    }
   ],
   "source": [
    "# Start node\n",
    "test = util.TestWrapper()\n",
    "test.setup()\n",
    "node = test.nodes[0]\n",
    "\n",
    "# Generate coins and create an output\n",
    "tx = node.generate_and_send_coins(address)\n",
    "print(\"Transaction {}, output 0\\nsent to {}\\n\".format(tx.hash, address))"
   ]
  },
  {
   "cell_type": "markdown",
   "metadata": {},
   "source": [
    "#### Example 2.2.8: Construct `CTransaction` and populate inputs\n",
    "\n",
    "We use the `create_spending_transaction(node, txid)` convenience function."
   ]
  },
  {
   "cell_type": "code",
   "execution_count": 42,
   "metadata": {},
   "outputs": [
    {
     "name": "stdout",
     "output_type": "stream",
     "text": [
      "Spending transaction:\n",
      "CTransaction(nVersion=1 vin=[CTxIn(prevout=COutPoint(hash=f5ae98b7d454b6cbec3a0aa18a3fad3cf8aec6d5180a7b1ce0a065f894a779af n=0) scriptSig= nSequence=0)] vout=[CTxOut(nValue=0.50000000 scriptPubKey=001406f351cbcee9ad6465a10e55e79da7ce5b4c6f52)] wit=CTxWitness() nLockTime=0)\n"
     ]
    }
   ],
   "source": [
    "# Create a spending transaction\n",
    "spending_tx = test.create_spending_transaction(tx.hash)\n",
    "print(\"Spending transaction:\\n{}\".format(spending_tx))"
   ]
  },
  {
   "cell_type": "markdown",
   "metadata": {},
   "source": [
    "#### _Programming Exercise 2.2.9:_ Spend taproot output with key path"
   ]
  },
  {
   "cell_type": "code",
   "execution_count": 43,
   "metadata": {},
   "outputs": [
    {
     "name": "stdout",
     "output_type": "stream",
     "text": [
      "{'txid': '203fbcac52de90d336fc892fa3a36ff18dab04ac4d8875dcfabe8b9eff3cee01', 'wtxid': 'f41ff6792f1b6a05420be91f1daba7ecf55fb8b0a1c79a13a97d469a7cfd81ff', 'allowed': True, 'vsize': 99, 'fees': {'base': Decimal('0.50000000'), 'effective-feerate': Decimal('5.05050505'), 'effective-includes': ['f41ff6792f1b6a05420be91f1daba7ecf55fb8b0a1c79a13a97d469a7cfd81ff']}}\n",
      "Success!\n"
     ]
    }
   ],
   "source": [
    "# Sign transaction with tweaked private key\n",
    "# Method: TaprootSignatureHash(tx, output_list, hash_type=int, input_index=int, scriptpath=bool)\n",
    "sighash =  TaprootSignatureHash(spending_tx, [tx.vout[0]], 0x0, 0, False)\n",
    "sig =  tweaked_privkey.sign_schnorr(sighash)\n",
    "\n",
    "# Add witness to transaction\n",
    "spending_tx.wit.vtxinwit.append(CTxInWitness([sig]))\n",
    "\n",
    "# Test mempool acceptance\n",
    "assert node.test_transaction(spending_tx)\n",
    "print(\"Success!\")"
   ]
  },
  {
   "cell_type": "markdown",
   "metadata": {},
   "source": [
    "#### _Shutdown TestWrapper_"
   ]
  },
  {
   "cell_type": "code",
   "execution_count": 49,
   "metadata": {},
   "outputs": [
    {
     "name": "stdout",
     "output_type": "stream",
     "text": [
      "2023-05-01T07:15:25.515000Z TestFramework./tmp/bitcoin_func_test_8x_xwzxb (INFO): Stopping nodes\n",
      "2023-05-01T07:15:25.667000Z TestFramework./tmp/bitcoin_func_test_8x_xwzxb (INFO): Cleaning up /tmp/bitcoin_func_test_8x_xwzxb on exit\n",
      "2023-05-01T07:15:25.668000Z TestFramework./tmp/bitcoin_func_test_8x_xwzxb (INFO): Tests successful\n"
     ]
    }
   ],
   "source": [
    "# Shutdown\n",
    "test.shutdown()"
   ]
  },
  {
   "cell_type": "markdown",
   "metadata": {},
   "source": [
    "## Part 3 (Case Study): Contract commitments\n",
    "\n",
    "Alice currently commits contracts with Bob to unspendable OP_RETURN outputs, which contain 32B proof-of-existence commitments. Although this is a standard output with a zero amount, several disadvantages remain:\n",
    "\n",
    "* Committing data to an OP_RETURN output requires an additional output with a zero amount, resulting in a higher transaction fees.\n",
    "* The OP_RETURN output reveals the presence of a data commitment to any on-chain observer. This reduces the privacy of Alice's commitments.\n",
    "\n",
    "In this chapter, we'll show how Alice can move her contract commitments to public key tweaks to reduce fees and improve the privacy of her commitments."
   ]
  },
  {
   "cell_type": "markdown",
   "metadata": {},
   "source": [
    "### Committing contract data to an OP_RETURN output\n",
    "\n",
    "We'll first show Alice's current setup: An OP_RETURN script containing commitment data."
   ]
  },
  {
   "cell_type": "markdown",
   "metadata": {},
   "source": [
    "#### Example 2.2.10: Create the contract commitment"
   ]
  },
  {
   "cell_type": "code",
   "execution_count": 50,
   "metadata": {},
   "outputs": [
    {
     "name": "stdout",
     "output_type": "stream",
     "text": [
      "The contract commitment is: 825c4ea08284424f5f4ed191927ba5a784612255199114c3f961fbf4d58b71fa\n"
     ]
    }
   ],
   "source": [
    "contract_bytes = \"Alice pays 10 BTC to Bob\".encode('utf-8')\n",
    "commitment_bytes = sha256(contract_bytes)\n",
    "print(\"The contract commitment is: {}\".format(commitment_bytes.hex()))"
   ]
  },
  {
   "cell_type": "markdown",
   "metadata": {},
   "source": [
    "#### Example 2.2.11: Start Bitcoin Core node and construct an unspent output\n",
    "\n",
    "Only run once, or after a clean shutdown. This constructs an unspent outpoint for example 2.2.12. "
   ]
  },
  {
   "cell_type": "code",
   "execution_count": 51,
   "metadata": {},
   "outputs": [
    {
     "name": "stdout",
     "output_type": "stream",
     "text": [
      "2023-05-01T07:16:51.415000Z TestFramework./tmp/bitcoin_func_test_oru1o7f7 (INFO): Initializing test directory /tmp/bitcoin_func_test_oru1o7f7\n",
      "Unspent coin: txid:18227230282617240290962707833846332515072189807414244242262218659263964435536, n:0\n"
     ]
    }
   ],
   "source": [
    "# Start node\n",
    "test = util.TestWrapper()\n",
    "test.setup()\n",
    "node = test.nodes[0]\n",
    "\n",
    "# Generate coins and send these to a new wallet address\n",
    "node.generatetoaddress(101, node.getnewaddress(address_type=\"bech32\"))\n",
    "\n",
    "# Fetch the oldest unspent outpoint in the Bitcoin Core wallet\n",
    "unspent_txid = node.listunspent(1)[-1][\"txid\"]\n",
    "unspent_outpoint = COutPoint(int(unspent_txid,16), 0)\n",
    "\n",
    "print(\"Unspent coin: txid:{}, n:{}\".format(unspent_outpoint.hash, unspent_outpoint.n))"
   ]
  },
  {
   "cell_type": "markdown",
   "metadata": {},
   "source": [
    "#### Example 2.2.12: Create and broadcast a transaction with an OP_RETURN output\n",
    "\n",
    "We now construct a zero-value OP_RETURN output which contains the commitment data of Alice's contract with Bob. We also add a regular P2WPKH output back to Alice to return the funds from the transaction input (less the transaction fee)."
   ]
  },
  {
   "cell_type": "code",
   "execution_count": 52,
   "metadata": {},
   "outputs": [
    {
     "name": "stdout",
     "output_type": "stream",
     "text": [
      "The OP_RETURN output script is: OP_RETURN 825c4ea08284424f5f4ed191927ba5a784612255199114c3f961fbf4d58b71fa\n",
      "The OP_RETURN output value is: 0\n",
      "The total transaction weight is: 609\n",
      "\n",
      "[{'txid': 'b542a3fbec5029a3d6db5e0db5ebd26cc064298f6294808ac0be254b621a5491', 'wtxid': '6b345679b9f03a9a88b06560a853c6d3bbbc9244693661a055a5ef824258718a', 'allowed': True, 'vsize': 153, 'fees': {'base': Decimal('0.50000000'), 'effective-feerate': Decimal('3.26797385'), 'effective-includes': ['6b345679b9f03a9a88b06560a853c6d3bbbc9244693661a055a5ef824258718a']}}]\n",
      "Success!\n"
     ]
    }
   ],
   "source": [
    "# Construct transaction spending previously generated outpoint\n",
    "op_return_tx = CTransaction()\n",
    "op_return_tx.nVersion = 1\n",
    "op_return_tx.nLockTime = 0\n",
    "op_return_tx_in = CTxIn(outpoint=unspent_outpoint, nSequence=0)\n",
    "op_return_tx.vin = [op_return_tx_in]\n",
    "\n",
    "# Output 0) Alice's change address\n",
    "address_alice = node.getnewaddress(address_type=\"bech32\")\n",
    "p2wpkh_output_script = bytes.fromhex(node.getaddressinfo(address_alice)['scriptPubKey'])\n",
    "p2wpkh_output_amount_sat = 4_950_000_000  # remove transaction fee from output amount\n",
    "p2wpkh_output = CTxOut(nValue=p2wpkh_output_amount_sat, scriptPubKey=p2wpkh_output_script)\n",
    "\n",
    "# Output 1) OP_RETURN with Alice's commitment\n",
    "# OP_Return <hash of \"contract state\" >  \n",
    "op_return_output_script = CScript([OP_RETURN, commitment_bytes])\n",
    "op_return_output = CTxOut(nValue=0, scriptPubKey=op_return_output_script)\n",
    "\n",
    "# Populate transaction with p2pkh and OP_RETURN outputs and add valid witness\n",
    "op_return_tx.vout = [p2wpkh_output, op_return_output]\n",
    "op_return_tx_hex_signed = node.signrawtransactionwithwallet(hexstring=op_return_tx.serialize().hex())['hex']\n",
    "\n",
    "# Confirm details of the OP_RETURN output\n",
    "op_return_tx_decoded = node.decoderawtransaction(op_return_tx_hex_signed)\n",
    "op_return_vout = op_return_tx_decoded['vout'][1]\n",
    "print(\"The OP_RETURN output script is: {}\".format(op_return_vout['scriptPubKey']['asm']))\n",
    "print(\"The OP_RETURN output value is: {}\".format(int(op_return_vout['value'])))\n",
    "\n",
    "# Note the total weight of the transaction with a dedicated OP_RETURN commitment output\n",
    "print(\"The total transaction weight is: {}\\n\".format(op_return_tx_decoded['weight']))\n",
    "\n",
    "# Test mempool acceptance\n",
    "print(node.testmempoolaccept(rawtxs=[op_return_tx_hex_signed], maxfeerate=0))\n",
    "assert node.testmempoolaccept(rawtxs=[op_return_tx_hex_signed], maxfeerate=0)[0]['allowed']\n",
    "print(\"Success!\")"
   ]
  },
  {
   "cell_type": "markdown",
   "metadata": {},
   "source": [
    "### Committing contract data with the pay-to-contract scheme\n",
    "\n",
    "Next, we will commit Alice's contract to a spendable pay-to-pubkey output with the pay-to-contract commitment scheme."
   ]
  },
  {
   "cell_type": "markdown",
   "metadata": {},
   "source": [
    "#### _Programming Exercise 2.2.13:_ Generate segwit v1 address for a pay-to-contract public key\n",
    "\n",
    "Commit the contract to Alice's public key with the pay-to-contract commitment scheme, and then generate the corresponding segwit v1 address."
   ]
  },
  {
   "cell_type": "code",
   "execution_count": 53,
   "metadata": {},
   "outputs": [
    {
     "name": "stdout",
     "output_type": "stream",
     "text": [
      "Address encoding the segwit v1 output:  bcrt1pafym8lffge6s9cj9z6jlkl5x9txs8e7jal9a3en85a2wnqry6maquc3xa9\n"
     ]
    }
   ],
   "source": [
    "# Generate a key pair\n",
    "privkey, pubkey = generate_bip340_key_pair()\n",
    "\n",
    "# Generate the pay-to-contract tweak\n",
    "# Hint: Use tagged_hash(\"TapTweak\", P + bytes)\n",
    "contract_bytes = \"Alice pays 10 BTC to Bob\".encode('utf-8')\n",
    "tweak = int_or_bytes(tagged_hash(\"TapTweak\", pubkey.get_bytes() + contract_bytes))\n",
    "tweak_private, tweak_point = generate_key_pair(tweak)\n",
    "\n",
    "# Tweak Alice's key pair with the pay-to-contract tweak\n",
    "tweaked_pubkey = pubkey + tweak_point\n",
    "tweaked_privkey = privkey + tweak_private\n",
    "\n",
    "# Generate the segwit v1 address\n",
    "tweaked_pubkey_data = tweaked_pubkey.get_bytes()\n",
    "tweaked_pubkey_program = tweaked_pubkey_data\n",
    "version = 1\n",
    "address = program_to_witness(version, tweaked_pubkey_program)\n",
    "print(\"Address encoding the segwit v1 output: \", address)"
   ]
  },
  {
   "cell_type": "markdown",
   "metadata": {},
   "source": [
    "#### Example 2.2.14: Create a transaction with the Bitcoin Core wallet sending funds to the segwit v1 address\n",
    "\n",
    "The pay-to-contract output encoded in the segwit v1 address holds spendable value just like a regular, untweaked public key. It can be spent with the tweaked private key, as we learned in part 2 of this chapter."
   ]
  },
  {
   "cell_type": "code",
   "execution_count": 54,
   "metadata": {},
   "outputs": [
    {
     "name": "stdout",
     "output_type": "stream",
     "text": [
      "\n",
      "Client version is /Satoshi:25.99.0(testnode0)/\n",
      "\n",
      "Balance: 5100.00000000\n",
      "\n",
      "Transaction febf0e655a9e1b20727e6ace4ae696c700d70a5c656319b5bafa9014ac148283, output 0\n",
      "Sent to bcrt1pafym8lffge6s9cj9z6jlkl5x9txs8e7jal9a3en85a2wnqry6maquc3xa9\n",
      "\n",
      "Transaction weight with pay-to-contract: 485\n",
      "Transaction weight with OP_RETURN: 609\n",
      "\n"
     ]
    }
   ],
   "source": [
    "# Generate coins and send to segwit v1 address containing the pay-to-contract public key\n",
    "tx = node.generate_and_send_coins(address)\n",
    "print(\"Transaction {}, output 0\\nSent to {}\\n\".format(tx.hash, address))\n",
    "print(\"Transaction weight with pay-to-contract: {}\".format(node.decoderawtransaction(tx.serialize().hex())['weight']))\n",
    "print(\"Transaction weight with OP_RETURN: {}\\n\".format(op_return_tx_decoded['weight']))"
   ]
  },
  {
   "cell_type": "markdown",
   "metadata": {},
   "source": [
    "#### _Shutdown TestWrapper_"
   ]
  },
  {
   "cell_type": "code",
   "execution_count": 55,
   "metadata": {},
   "outputs": [
    {
     "name": "stdout",
     "output_type": "stream",
     "text": [
      "2023-05-01T07:28:06.247000Z TestFramework./tmp/bitcoin_func_test_oru1o7f7 (INFO): Stopping nodes\n",
      "2023-05-01T07:28:06.450000Z TestFramework./tmp/bitcoin_func_test_oru1o7f7 (INFO): Cleaning up /tmp/bitcoin_func_test_oru1o7f7 on exit\n",
      "2023-05-01T07:28:06.450000Z TestFramework./tmp/bitcoin_func_test_oru1o7f7 (INFO): Tests successful\n"
     ]
    }
   ],
   "source": [
    "# Shutdown\n",
    "test.shutdown()"
   ]
  },
  {
   "cell_type": "markdown",
   "metadata": {},
   "source": [
    "**Congratulations!** In this chapter, you have:\n",
    "\n",
    "- Learned how to tweak a public/private key pair with a value.\n",
    "- Created an _insecure_ commitment scheme (by tweaking the keys with the raw commitment value) and a _secure_ commitment scheme (by tweaking with a hash of the commitment and the public key).\n",
    "- Sent coins to a segwit v1 output with a tweaked public key, and later spent that output by signing with the tweaked private key.\n",
    "- Improved cost and privacy of a contract commitment by moving it from an unspendable OP_RETURN output to a pay-to-contract public key."
   ]
  }
 ],
 "metadata": {
  "kernelspec": {
   "display_name": "taproot",
   "language": "python",
   "name": "python3"
  },
  "language_info": {
   "codemirror_mode": {
    "name": "ipython",
    "version": 3
   },
   "file_extension": ".py",
   "mimetype": "text/x-python",
   "name": "python",
   "nbconvert_exporter": "python",
   "pygments_lexer": "ipython3",
   "version": "3.11.3"
  },
  "vscode": {
   "interpreter": {
    "hash": "1cf1b860632275fc0956ffedcd23da6de4fff2d17e526b9963da185d550ea12a"
   }
  }
 },
 "nbformat": 4,
 "nbformat_minor": 2
}
