{
 "cells": [
  {
   "cell_type": "code",
   "execution_count": 8,
   "metadata": {},
   "outputs": [],
   "source": [
    "import random\n",
    "import util\n",
    "from test_framework.key import generate_key_pair, ECKey, ECPubKey, SECP256K1_FIELD_SIZE, SECP256K1_ORDER"
   ]
  },
  {
   "cell_type": "code",
   "execution_count": 9,
   "metadata": {},
   "outputs": [
    {
     "name": "stdout",
     "output_type": "stream",
     "text": [
      "115792089237316195423570985008687907852837564279074904382605163141518161494337\n"
     ]
    }
   ],
   "source": [
    "print(SECP256K1_ORDER)"
   ]
  },
  {
   "cell_type": "markdown",
   "metadata": {},
   "source": [
    "# 0.2 Elliptic Curve Math (Review)\n"
   ]
  },
  {
   "cell_type": "markdown",
   "metadata": {},
   "source": [
    "Elliptic Curve math involves scalars and points.\n",
    "\n",
    "* A scalar is a positive integer which is smaller than the group order, and is denoted by a lower case letter (eg `a`).\n",
    "* A point lies on the curve and is denoted by an upper-case letter (eg `C`) or a pair of co-ordinates (eg `(x,y)`).\n",
    "\n",
    "In Bitcoin, key pair generation and signing is performed over the secp256k1 curve. All scalars are modulo the group order `SECP256K1_ORDER`, which is a very large number"
   ]
  },
  {
   "cell_type": "markdown",
   "metadata": {},
   "source": [
    "![test](images/ec_math0.jpg)\n",
    "\n",
    "_An overview of all operations of scalars and points over elliptic curves._"
   ]
  },
  {
   "cell_type": "markdown",
   "metadata": {},
   "source": [
    "### Classes / Methods for Elliptic Curve Math\n",
    "\n",
    "**`Integers`:** All Scalar operations over secp256k1 can be performed with python integers and the modulo `%` operator. \n",
    "\n",
    "Scalar addition, subtraction, multiplication and division over secp256k1 are modulo a large prime number SECP256K1_ORDER.\n",
    "\n",
    "* All scalar operations are performed modulo `SECP256K1_ORDER`.\n",
    "* Addition: `a + b % SECP256K1_ORDER`\n",
    "* Subtraction: `-a = SECP256K1_ORDER - a`\n",
    "* Multiplication: `a * b % SECP256K1_ORDER`\n",
    "* Division (see [Fermat's little theorem](https://en.wikipedia.org/wiki/Fermat%27s_little_theorem)): `1/b = b ** (SECP256K1_ORDER-2) % SECP256K1_ORDER`\n",
    "\n",
    "**`ECKey`:** The Bitcoin Core library provides a private key class which can also perform certain scalar operations.\n",
    "\n",
    "* Addition: `a + b`\n",
    "* Subtraction: `a - b` \n",
    "* Multiplication: `a * b`\n",
    "* Division: `a * 1/b` (See Fermat's little theorem) \n",
    "\n",
    "**`ECPubKey`:** A public key is the private key scalar multiplied by the group's _generator point_ `G`. The following operations are possible with public keys.\n",
    "\n",
    "* Addition (of two public keys): `A + B`\n",
    "* Subtraction (of one point from another): `A - B` \n",
    "* Multiplication (of a point times a scalar): `A * b`\n",
    "* Division (of a point by a scalar): `A * 1/b` (See Fermat's little theorem) \n"
   ]
  },
  {
   "cell_type": "markdown",
   "metadata": {},
   "source": [
    "![test](images/ec_math1.jpg)\n",
    "\n",
    "_Classes and methods for EC operations provided by the Bitcoin Core test framework._"
   ]
  },
  {
   "cell_type": "markdown",
   "metadata": {},
   "source": [
    "#### 0.2.1 Example: Scalar Addition over secp256K1 order\n",
    "\n",
    "Addition can be performed with modular arithmetic in python or with the private key class `ECKey`. We can set an `ECKey` object to a certain value, or generate a new private key with the `generate` method.\n",
    "\n",
    "In the example below, addition is performed with both integers and the `ECKey` class, and evaluated for equality."
   ]
  },
  {
   "cell_type": "code",
   "execution_count": 10,
   "metadata": {},
   "outputs": [
    {
     "name": "stdout",
     "output_type": "stream",
     "text": [
      "a = 30531154762575661317399447582442731159779333000066602016130342414109885340471\n",
      "b = 65721709837587252857499634771633231001276284749046481737818234189104099967958\n",
      "\n",
      "a + b = 96252864600162914174899082354075962161055617749113083753948576603213985308429\n",
      "\n",
      "a_key private key = 30531154762575661317399447582442731159779333000066602016130342414109885340471\n",
      "b_key private key = 65721709837587252857499634771633231001276284749046481737818234189104099967958\n",
      "\n",
      "ab_key private key = 96252864600162914174899082354075962161055617749113083753948576603213985308429\n",
      "\n",
      "Success!\n"
     ]
    }
   ],
   "source": [
    "# int() operations\n",
    "# get 2 random numbers a, b\n",
    "a = random.randrange(1, SECP256K1_ORDER)\n",
    "b = random.randrange(1, SECP256K1_ORDER)\n",
    "print(\"a = {}\".format(a))\n",
    "print(\"b = {}\".format(b))\n",
    "\n",
    "# use simple addition for a + b but modulo the result to make sure we stay within the SECP256K1_ORDER order\n",
    "ab = (a + b) % SECP256K1_ORDER\n",
    "print(\"\\na + b = {}\\n\".format(ab))\n",
    "\n",
    "# ECKey() operations\n",
    "# Use the set() method to instantiate ECKey instances\n",
    "a_key = ECKey().set(a)\n",
    "b_key = ECKey().set(b)\n",
    "\n",
    "ab_key = a_key + b_key\n",
    "\n",
    "print(\"a_key private key = {}\".format(a_key))\n",
    "print(\"b_key private key = {}\".format(b_key))\n",
    "print(\"\\nab_key private key = {}\\n\".format(ab_key))\n",
    "\n",
    "# Check operations are equivalent\n",
    "# Use .secret to retrieve the ECKey's private key \n",
    "assert ab_key.secret == ab\n",
    "print(\"Success!\")"
   ]
  },
  {
   "cell_type": "markdown",
   "metadata": {},
   "source": [
    "#### 0.2.2 Example: Scalar Multiplication over secp256K1 order\n",
    "\n",
    "In the example below, multiplication is performed with both integers and the `ECKey` class, and evaluated for equality."
   ]
  },
  {
   "cell_type": "code",
   "execution_count": 11,
   "metadata": {},
   "outputs": [
    {
     "name": "stdout",
     "output_type": "stream",
     "text": [
      "a = 24086554711720363232206914356459331584061569397857012203262532487225954937826\n",
      "b = 79654162691530390097707528487604143662633075812942423261113589078557707051776\n",
      "\n",
      "a * b = 64127504592313016795355858575178484352151713669329311909082668578677700169021\n",
      "\n",
      "a_key private key = 24086554711720363232206914356459331584061569397857012203262532487225954937826\n",
      "b_key private key = 79654162691530390097707528487604143662633075812942423261113589078557707051776\n",
      "\n",
      "ab_key private key = 64127504592313016795355858575178484352151713669329311909082668578677700169021\n",
      "\n",
      "Success!\n"
     ]
    }
   ],
   "source": [
    "# int() operations\n",
    "# get 2 random numbers a, b\n",
    "a = random.randrange(1, SECP256K1_ORDER)\n",
    "b = random.randrange(1, SECP256K1_ORDER)\n",
    "print(\"a = {}\".format(a))\n",
    "print(\"b = {}\".format(b))\n",
    "\n",
    "# Use simple multiplication for a * b but modulo the result to make sure we stay within the SECP256K1_ORDER order\n",
    "ab = (a * b) % SECP256K1_ORDER\n",
    "print(\"\\na * b = {}\\n\".format(ab))\n",
    "\n",
    "# ECkey() operations\n",
    "# Use the set() method to instantiate ECKey instances\n",
    "a_key = ECKey().set(a)\n",
    "b_key = ECKey().set(b)\n",
    "\n",
    "ab_key = a_key * b_key\n",
    "\n",
    "print(\"a_key private key = {}\".format(a_key))\n",
    "print(\"b_key private key = {}\".format(b_key))\n",
    "print(\"\\nab_key private key = {}\\n\".format(ab_key))\n",
    "\n",
    "# Check operations are equivalent\n",
    "# Use .secret to retrieve the ECKey's private key \n",
    "assert ab_key.secret == ab\n",
    "print(\"Success!\")"
   ]
  },
  {
   "cell_type": "markdown",
   "metadata": {},
   "source": [
    "#### 0.2.3 _Programming Exercise:_ Commutative property of scalar operations\n",
    "\n",
    "In this exercise we wish to demonstrate the commutative property of scalar addition and multiplication, whilst getting familiarized with both integer modulo operations and the private key `ECKey` methods.\n",
    "\n",
    "Consider:\n",
    "\n",
    "* `a + b == b + a` over secp256k1\n",
    "* `a * b == b * a` over secp256k1"
   ]
  },
  {
   "cell_type": "code",
   "execution_count": 16,
   "metadata": {},
   "outputs": [
    {
     "name": "stdout",
     "output_type": "stream",
     "text": [
      "Left: 77782175520581557632941067143900543143231424831289958880965433702394194785138\n",
      "Right: 77782175520581557632941067143900543143231424831289958880965433702394194785138\n",
      "\n",
      "Left: 50055165014860507567954110138357881978606110745005784017379899806549872543227\n",
      "Right: 50055165014860507567954110138357881978606110745005784017379899806549872543227\n",
      "\n",
      "Success!\n"
     ]
    },
    {
     "name": "stderr",
     "output_type": "stream",
     "text": [
      "/tmp/ipykernel_12908/1283417708.py:1: DeprecationWarning: non-integer arguments to randrange() have been deprecated since Python 3.10 and will be removed in a subsequent version\n",
      "  a = random.randrange(SECP256K1_ORDER / 2, SECP256K1_ORDER)\n",
      "/tmp/ipykernel_12908/1283417708.py:4: DeprecationWarning: non-integer arguments to randrange() have been deprecated since Python 3.10 and will be removed in a subsequent version\n",
      "  b = random.randrange(SECP256K1_ORDER / 2, SECP256K1_ORDER)\n"
     ]
    }
   ],
   "source": [
    "a = random.randrange(SECP256K1_ORDER / 2, SECP256K1_ORDER)\n",
    "a_key = ECKey().set(a) \n",
    "\n",
    "b = random.randrange(SECP256K1_ORDER / 2, SECP256K1_ORDER)\n",
    "b_key = ECKey().set(b) \n",
    "\n",
    "# Left: Compute a + b as ints (modulo the sepc256k1 group order)\n",
    "left_a_plus_b =  (a+ b) % SECP256K1_ORDER\n",
    "\n",
    "# Right: Compute b + a as ECKeys\n",
    "right_b_plus_a = b_key + a_key \n",
    "\n",
    "print(\"Left: {}\".format(left_a_plus_b))\n",
    "print(\"Right: {}\\n\".format(right_b_plus_a))\n",
    "\n",
    "# Left/Right: Assert equality\n",
    "assert left_a_plus_b == right_b_plus_a.secret\n",
    "\n",
    "# Left: Compute a * b as ints (modulo the sepc256k1 group order)\n",
    "left_a_times_b =   (a * b) % SECP256K1_ORDER\n",
    "\n",
    "# Right: Compute b * a as ECKeys\n",
    "right_b_times_a =  b_key * a_key\n",
    "\n",
    "print(\"Left: {}\".format(left_a_times_b))\n",
    "print(\"Right: {}\\n\".format(right_b_times_a))\n",
    "\n",
    "# Left/Right: Assert equality\n",
    "assert left_a_times_b == right_b_times_a.secret\n",
    "print(\"Success!\")"
   ]
  },
  {
   "cell_type": "markdown",
   "metadata": {},
   "source": [
    "#### 0.2.4 _Programming Exercise:_ Distributivity of scalar operations\n",
    "\n",
    "In this exercise we wish to demonstrate the distributivity property of scalar addition and multiplication.\n",
    "\n",
    "Consider: `(a - b) * c == a * c - b * c` over SECP256k1"
   ]
  },
  {
   "cell_type": "code",
   "execution_count": 17,
   "metadata": {},
   "outputs": [
    {
     "name": "stdout",
     "output_type": "stream",
     "text": [
      "Left: 108811872972302043330239907785696531280544783647980023616927894686184248183181\n",
      "Right: 108811872972302043330239907785696531280544783647980023616927894686184248183181\n",
      "\n",
      "Success!\n"
     ]
    }
   ],
   "source": [
    "a = random.randrange(1, SECP256K1_ORDER)\n",
    "a_key = ECKey().set(a)\n",
    "\n",
    "b = random.randrange(1, SECP256K1_ORDER)\n",
    "b_key = ECKey().set(b)\n",
    "\n",
    "c = random.randrange(1, SECP256K1_ORDER)\n",
    "c_key = ECKey().set(c)\n",
    "\n",
    "# Left: Compute a - b as ints (modulo the sepc256k1 group order)\n",
    "a_minus_b = (a -b) % SECP256K1_ORDER\n",
    "\n",
    "# Left: Compute (a - b) * c as ints (modulo the sepc256k1 group order)\n",
    "left = (a_minus_b * c) % SECP256K1_ORDER\n",
    "\n",
    "# Right: Compute a * c - b * c as ECKeys\n",
    "right =  (a_key * c_key) - (b_key * c_key)\n",
    "\n",
    "print(\"Left: {}\".format(left))\n",
    "print(\"Right: {}\".format(right))\n",
    "\n",
    "# Left/Right: Assert equality\n",
    "assert left == right.secret\n",
    "print(\"\\nSuccess!\")"
   ]
  },
  {
   "cell_type": "markdown",
   "metadata": {},
   "source": [
    "#### 0.2.5 Example: Point Addition over secp256k1\n",
    "\n",
    "The public key `ECPubkey` class can be derived from `ECKey` with the `ECKey.get_pubkey` method. \n",
    "\n",
    "In the following example, we perform point addition. Point addition is used to create aggregate MuSig pubkeys."
   ]
  },
  {
   "cell_type": "code",
   "execution_count": 18,
   "metadata": {},
   "outputs": [
    {
     "name": "stdout",
     "output_type": "stream",
     "text": [
      "Point A is e5960e2922e2db778c5947d3098b1ed8410045c1728695ca59ecdf6d6b5a4086\n",
      "Point B is 34f98f08dc5fd30d30791c8bc9f1367c6b3efcb3e9d6c6ffd5a83cbb20656ee6\n",
      "Point (A + B) is 1a4bdb3f9d377124c8638fcd04593900cf23212a26622fa1a21b4380c8724023\n"
     ]
    }
   ],
   "source": [
    "# Generate uses random.randrange(1, SECP256K1_ORDER) similar to what we have done in earlier examples\n",
    "a = ECKey().generate()\n",
    "\n",
    "# get_pubkey() generates the pubkey (in the form of an ECPubKey object)\n",
    "# by multiplying the secret by the generator point G\n",
    "A = a.get_pubkey()\n",
    "\n",
    "# Alternatively, use the generate_key_pair() helper function to return a (ECKey, ECPubKey) pair\n",
    "b, B = generate_key_pair()\n",
    "\n",
    "# Print the public keys\n",
    "print(\"Point A is {}\".format(A))\n",
    "print(\"Point B is {}\".format(B))\n",
    "\n",
    "# Perform point addition between the two pubkeys\n",
    "AB = A + B\n",
    "\n",
    "print(\"Point (A + B) is {}\".format(AB))"
   ]
  },
  {
   "cell_type": "markdown",
   "metadata": {},
   "source": [
    "#### 0.2.6  _Programming Exercise:_ Distributivity over scalars and points\n",
    "\n",
    "In this exercise we wish to demonstrate the distributivity property of scalar/point operations, whilst getting familiarized with both integer modulo operations and the public key `ECPubKey` methods.\n",
    "\n",
    "Consider: `(a - b) * C == a * C + (-b) * C`"
   ]
  },
  {
   "cell_type": "code",
   "execution_count": 19,
   "metadata": {},
   "outputs": [
    {
     "name": "stdout",
     "output_type": "stream",
     "text": [
      "Left: d0ea9cf2d8d74f79fb00eed78a108f3784942f81ae1511fcd95fd7aa8435a39d\n",
      "Right: d0ea9cf2d8d74f79fb00eed78a108f3784942f81ae1511fcd95fd7aa8435a39d\n",
      "\n",
      "Success!\n"
     ]
    }
   ],
   "source": [
    "a = ECKey().generate()\n",
    "b = ECKey().generate()\n",
    "c, C = generate_key_pair()\n",
    "\n",
    "# Left: Compute (a - b) * C  \n",
    "left =  (a-b) * C\n",
    "\n",
    "# Right: Compute aC - bC\n",
    "right =  a * C - b * C\n",
    "\n",
    "print(\"Left: {}\".format(left))\n",
    "print(\"Right: {}\".format(right))\n",
    "\n",
    "# Left/Right: Assert equality\n",
    "assert left == right\n",
    "print(\"\\nSuccess!\")"
   ]
  },
  {
   "cell_type": "markdown",
   "metadata": {},
   "source": [
    "**Congratulations!** You've learned:\n",
    "\n",
    "- Scalar addition, subtraction, multiplication and division\n",
    "- Point addition and subtraction\n",
    "- Multiplying a point by a scalar\n",
    "- How to use the `ECKey` and `ECPubKey` classes"
   ]
  }
 ],
 "metadata": {
  "kernelspec": {
   "display_name": "taproot",
   "language": "python",
   "name": "python3"
  },
  "language_info": {
   "codemirror_mode": {
    "name": "ipython",
    "version": 3
   },
   "file_extension": ".py",
   "mimetype": "text/x-python",
   "name": "python",
   "nbconvert_exporter": "python",
   "pygments_lexer": "ipython3",
   "version": "3.11.3"
  },
  "vscode": {
   "interpreter": {
    "hash": "1cf1b860632275fc0956ffedcd23da6de4fff2d17e526b9963da185d550ea12a"
   }
  }
 },
 "nbformat": 4,
 "nbformat_minor": 2
}
